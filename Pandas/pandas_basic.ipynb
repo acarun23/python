{
 "cells": [
  {
   "cell_type": "markdown",
   "id": "e69881bc",
   "metadata": {},
   "source": [
    "### installing numpy using \"pip install pandas\"\n",
    "        import numpy using \"import numpy as np\"\n",
    "        import numpy using \"import pandas as pd\""
   ]
  },
  {
   "cell_type": "markdown",
   "id": "6db7ed88",
   "metadata": {},
   "source": [
    "#### Pandas DataStructure\n",
    "    - Series : One dimensional\n",
    "      - ex : pd.Series([12,-4,7,9])\n",
    "      - pd.Series([12,-4,7,9], index=['a','b','c','d']) : provides the name to indexes\n",
    "      - use 's.index' and 's.values' for getting info\n",
    "      - Selecting element : s[0] , s[0:2], s[['b','c']]\n",
    "      - update element : s[0] = 1\n",
    "      - declare series using numpy array\n",
    "        - arr = np.array([1,2,3,4])                  \n",
    "        - s3 = pd.Series(arr)   \n",
    "        - Always keep in mind that the values contained in the NumPy array or in the original series are not copied, but are passed by reference\n",
    "        - change any value in arr, code will change it everywhere\n",
    "      - filter value : s[s>8]\n",
    "    - DataFrame :  contain cases with several dimensions."
   ]
  },
  {
   "cell_type": "code",
   "execution_count": 139,
   "id": "bb4e4b63",
   "metadata": {},
   "outputs": [
    {
     "name": "stdout",
     "output_type": "stream",
     "text": [
      "series\n",
      " a    12\n",
      "b    -4\n",
      "c     7\n",
      "d     9\n",
      "dtype: int64\n",
      "index = Index(['a', 'b', 'c', 'd'], dtype='object'), values = [12 -4  7  9]\n",
      "value at s[0] = 12, values at s[['b','c']] = b   -4\n",
      "c    7\n",
      "dtype: int64\n",
      "filtered value = a    12\n",
      "d     9\n",
      "dtype: int64\n"
     ]
    }
   ],
   "source": [
    "import pandas as pd\n",
    "import numpy as np\n",
    "\n",
    "s = pd.Series([12,-4,7,9], index=['a','b','c','d'])\n",
    "print(\"series\\n\",s)\n",
    "print(f\"index = {s.index}, values = {s.values}\")\n",
    "print(f\"value at s[0] = {s.iloc[0]}, values at s[['b','c']] = {s[['b','c']]}\")\n",
    "print(f\"filtered value = {s[s>8]}\")"
   ]
  },
  {
   "cell_type": "markdown",
   "id": "d75aa391",
   "metadata": {},
   "source": [
    "#### operations on Series\n",
    "    - (+, -, *, and /)  operation apply on the complete series\n",
    "      - ex : np.log(s)          # log opertaion is applied to all element in the series\n",
    "    - unique()      # filtered out teh unique value \n",
    "    - value_counts()  #  which not only returns unique values but also calculates the occurrences within a series.\n",
    "    - isin()        # This function tells you if the values are contained in the data structure. Boolean values that are returned. Can be useful for filtering\n",
    "      - ex : serd[serd.isin([0,3])]         # filtered the values"
   ]
  },
  {
   "cell_type": "code",
   "execution_count": 140,
   "id": "2ca101e5",
   "metadata": {},
   "outputs": [
    {
     "name": "stdout",
     "output_type": "stream",
     "text": [
      "check 1 and 3 value = \n",
      "white      True\n",
      "white     False\n",
      "blue      False\n",
      "green      True\n",
      "green     False\n",
      "yellow     True\n",
      "dtype: bool\n",
      "filtered 1 and 3 value = \n",
      "white     1\n",
      "green     1\n",
      "yellow    3\n",
      "dtype: int64\n"
     ]
    }
   ],
   "source": [
    "serd = pd.Series([1,0,2,1,2,3], index=['white','white','blue','green','green','yellow'])\n",
    "print(f\"check 1 and 3 value = \\n{serd.isin([1,3])}\")\n",
    "\n",
    "print(f\"filtered 1 and 3 value = \\n{serd[serd.isin([1,3])]}\")"
   ]
  },
  {
   "cell_type": "markdown",
   "id": "c7bf8f6d",
   "metadata": {},
   "source": [
    "#### NaN value (Not a Number)\n",
    "    - returned by negative log, divide by 0\n",
    "    - np.nan        # used to define NaN value\n",
    "      - isnull() and notnull() : functions are very useful for identifying the indexes without a value.\n",
    "      - These  functions return 'True' or 'false' \n",
    "      - ser.dropna()          # drop the series with NaN\n",
    "      - ser[ser.notnull()]    # use to filter which are not null\n",
    "      - use \"frame3.dropna(how='all')\" for dataframe it will filtered all rows with NAN\n",
    "      - use frame3.fillna(0)   # to fill NaN with 0 values\n",
    "      - frame3.fillna({'ball':1,'mug':0,'pen':99})  # will fill column according to values"
   ]
  },
  {
   "cell_type": "code",
   "execution_count": 141,
   "id": "18b3f2c5",
   "metadata": {},
   "outputs": [
    {
     "name": "stdout",
     "output_type": "stream",
     "text": [
      "Not null values = 0     5.0\n",
      "1    -3.0\n",
      "3    14.0\n",
      "dtype: float64\n",
      "frame_null =\n",
      "        ball  mug  pen\n",
      "blue    6.0  NaN  6.0\n",
      "green   NaN  NaN  NaN\n",
      "red     2.0  NaN  5.0\n",
      "frame using frame_null.dropna()=\n",
      " Empty DataFrame\n",
      "Columns: [ball, mug, pen]\n",
      "Index: []\n",
      "frame using frame_null.dropna(how = 'all')=\n",
      "       ball  mug  pen\n",
      "blue   6.0  NaN  6.0\n",
      "red    2.0  NaN  5.0\n"
     ]
    },
    {
     "data": {
      "text/html": [
       "<div>\n",
       "<style scoped>\n",
       "    .dataframe tbody tr th:only-of-type {\n",
       "        vertical-align: middle;\n",
       "    }\n",
       "\n",
       "    .dataframe tbody tr th {\n",
       "        vertical-align: top;\n",
       "    }\n",
       "\n",
       "    .dataframe thead th {\n",
       "        text-align: right;\n",
       "    }\n",
       "</style>\n",
       "<table border=\"1\" class=\"dataframe\">\n",
       "  <thead>\n",
       "    <tr style=\"text-align: right;\">\n",
       "      <th></th>\n",
       "      <th>ball</th>\n",
       "      <th>mug</th>\n",
       "      <th>pen</th>\n",
       "    </tr>\n",
       "  </thead>\n",
       "  <tbody>\n",
       "    <tr>\n",
       "      <th>blue</th>\n",
       "      <td>6.0</td>\n",
       "      <td>0.0</td>\n",
       "      <td>6.0</td>\n",
       "    </tr>\n",
       "    <tr>\n",
       "      <th>green</th>\n",
       "      <td>1.0</td>\n",
       "      <td>0.0</td>\n",
       "      <td>99.0</td>\n",
       "    </tr>\n",
       "    <tr>\n",
       "      <th>red</th>\n",
       "      <td>2.0</td>\n",
       "      <td>0.0</td>\n",
       "      <td>5.0</td>\n",
       "    </tr>\n",
       "  </tbody>\n",
       "</table>\n",
       "</div>"
      ],
      "text/plain": [
       "       ball  mug   pen\n",
       "blue    6.0  0.0   6.0\n",
       "green   1.0  0.0  99.0\n",
       "red     2.0  0.0   5.0"
      ]
     },
     "execution_count": 141,
     "metadata": {},
     "output_type": "execute_result"
    }
   ],
   "source": [
    "#a = np.log(-10)\n",
    "\n",
    "s2 = pd.Series([5,-3,np.nan,14])\n",
    "print(f\"Not null values = {s2[s2.notnull()]}\")\n",
    "\n",
    "frame_null = pd.DataFrame([[6,np.nan,6],[np.nan,np.nan,np.nan],[2,np.nan,5]],                \n",
    "                        index = ['blue','green','red'],                \n",
    "                        columns = ['ball','mug','pen'])\n",
    "\n",
    "print(\"frame_null =\\n\",frame_null)\n",
    "print(\"frame using frame_null.dropna()=\\n\",frame_null.dropna())\n",
    "print(\"frame using frame_null.dropna(how = 'all')=\\n\",frame_null.dropna(how = 'all'))\n",
    "\n",
    "frame_null.fillna({'ball':1,'mug':0,'pen':99})"
   ]
  },
  {
   "cell_type": "markdown",
   "id": "fcef979d",
   "metadata": {},
   "source": [
    "#### Operation between series\n",
    "    - you add two series having only some elements in common with the label.\n",
    "    - For non common NaN will be returened"
   ]
  },
  {
   "cell_type": "code",
   "execution_count": 142,
   "id": "8dc320fa",
   "metadata": {},
   "outputs": [
    {
     "name": "stdout",
     "output_type": "stream",
     "text": [
      "black        NaN\n",
      "blue         NaN\n",
      "orange       NaN\n",
      "red       2400.0\n",
      "yellow    1500.0\n",
      "dtype: float64\n"
     ]
    }
   ],
   "source": [
    "mydict = {'red': 2000, 'blue': 1000, 'yellow': 500, 'orange': 1000}                  \n",
    "myseries = pd.Series(mydict)\n",
    "\n",
    "mydict2 = {'red':400,'yellow':1000,'black':700}                  \n",
    "myseries2 = pd.Series(mydict2)                  \n",
    "print(myseries + myseries2)"
   ]
  },
  {
   "cell_type": "markdown",
   "id": "9948d757",
   "metadata": {},
   "source": [
    "#### Data Frame\n",
    "  ![alt text](images/DF_data.jpg)\n",
    "  - The first index array, associated with the lines, has very similar functions to the index array in series.\n",
    "  - The second array contains a series of labels, each associated with a particular column."
   ]
  },
  {
   "cell_type": "code",
   "execution_count": 143,
   "id": "d4fa210e",
   "metadata": {},
   "outputs": [
    {
     "name": "stdout",
     "output_type": "stream",
     "text": [
      "    color  object  price\n",
      "0    blue    ball    1.2\n",
      "1   green     pen    1.0\n",
      "2  yellow  pencil    0.6\n",
      "3     red   paper    0.9\n",
      "4   white     mug    1.7\n"
     ]
    }
   ],
   "source": [
    "data = {'color' : ['blue','green','yellow','red','white'],                  \n",
    "                     'object' : ['ball','pen','pencil','paper','mug'],                  \n",
    "                     'price' : [1.2,1.0,0.6,0.9,1.7]}                  \n",
    "frame = pd.DataFrame(data) \n",
    "print(frame)"
   ]
  },
  {
   "cell_type": "markdown",
   "id": "164a7fb8",
   "metadata": {},
   "source": [
    "#### Data frame basic operations\n",
    "    - filter few column using pd.DataFrame(data, columns=['object','price']) \n",
    "    - Add 'index', 'column' arguments in 'DataFrame' for naming\n",
    "      -  'frame.index' : to get the indexes\n",
    "      -  'frame.columns' : to get teh columns\n",
    "   - frame['price'] or frame.price   # select price column\n",
    "   - if what you want to achieve is a single value within a dataframe, you first use the name of the column and then the index or the label of the row.\n",
    "     - ex : frame[column][row]\n",
    "   - Assign name to index and column\n",
    "     - frame.index.name = 'id'                  \n",
    "     - frame.columns.name = 'item' "
   ]
  },
  {
   "cell_type": "code",
   "execution_count": 144,
   "id": "d6c90cab",
   "metadata": {},
   "outputs": [
    {
     "name": "stdout",
     "output_type": "stream",
     "text": [
      "frame  \n",
      "        ball  pen  pencil  paper\n",
      "red        0    1       2      3\n",
      "blue       4    5       6      7\n",
      "yellow     8    9      10     11\n",
      "white     12   13      14     15\n",
      "index = Index(['red', 'blue', 'yellow', 'white'], dtype='object')\n",
      "column = Index(['ball', 'pen', 'pencil', 'paper'], dtype='object')\n",
      "Price column = red        1\n",
      "blue       5\n",
      "yellow     9\n",
      "white     13\n",
      "Name: pen, dtype: int64\n",
      "2 and 4th loc =         ball  pen  pencil  paper\n",
      "red        0    1       2      3\n",
      "yellow     8    9      10     11\n",
      "frame['ball']['red'] = 0\n"
     ]
    },
    {
     "data": {
      "text/html": [
       "<div>\n",
       "<style scoped>\n",
       "    .dataframe tbody tr th:only-of-type {\n",
       "        vertical-align: middle;\n",
       "    }\n",
       "\n",
       "    .dataframe tbody tr th {\n",
       "        vertical-align: top;\n",
       "    }\n",
       "\n",
       "    .dataframe thead th {\n",
       "        text-align: right;\n",
       "    }\n",
       "</style>\n",
       "<table border=\"1\" class=\"dataframe\">\n",
       "  <thead>\n",
       "    <tr style=\"text-align: right;\">\n",
       "      <th>type</th>\n",
       "      <th>ball</th>\n",
       "      <th>pen</th>\n",
       "      <th>pencil</th>\n",
       "      <th>paper</th>\n",
       "    </tr>\n",
       "    <tr>\n",
       "      <th>colour</th>\n",
       "      <th></th>\n",
       "      <th></th>\n",
       "      <th></th>\n",
       "      <th></th>\n",
       "    </tr>\n",
       "  </thead>\n",
       "  <tbody>\n",
       "    <tr>\n",
       "      <th>red</th>\n",
       "      <td>0</td>\n",
       "      <td>1</td>\n",
       "      <td>2</td>\n",
       "      <td>3</td>\n",
       "    </tr>\n",
       "    <tr>\n",
       "      <th>blue</th>\n",
       "      <td>4</td>\n",
       "      <td>5</td>\n",
       "      <td>6</td>\n",
       "      <td>7</td>\n",
       "    </tr>\n",
       "    <tr>\n",
       "      <th>yellow</th>\n",
       "      <td>8</td>\n",
       "      <td>9</td>\n",
       "      <td>10</td>\n",
       "      <td>11</td>\n",
       "    </tr>\n",
       "    <tr>\n",
       "      <th>white</th>\n",
       "      <td>12</td>\n",
       "      <td>13</td>\n",
       "      <td>14</td>\n",
       "      <td>15</td>\n",
       "    </tr>\n",
       "  </tbody>\n",
       "</table>\n",
       "</div>"
      ],
      "text/plain": [
       "type    ball  pen  pencil  paper\n",
       "colour                          \n",
       "red        0    1       2      3\n",
       "blue       4    5       6      7\n",
       "yellow     8    9      10     11\n",
       "white     12   13      14     15"
      ]
     },
     "execution_count": 144,
     "metadata": {},
     "output_type": "execute_result"
    }
   ],
   "source": [
    "frame = pd.DataFrame(np.arange(16).reshape((4,4)),                  \n",
    "                   index=['red','blue','yellow','white'],                  \n",
    "                   columns=['ball','pen','pencil','paper'])\n",
    "\n",
    "print(f\"frame  \\n{frame}\")\n",
    "print(f\"index = {frame.index}\")\n",
    "print(f\"column = {frame.columns}\")\n",
    "print(f\"Price column = {frame['pen']}\")\n",
    "#print(f\"Price column = {frame.pen}\")       # same meaning as above\n",
    "\n",
    "print(f\"2 and 4th loc = {frame.loc[['red','yellow']]}\")\n",
    "print(f\"frame['ball']['red'] = {frame['ball']['red']}\")\n",
    "\n",
    "frame.index.name = 'colour'\n",
    "frame.columns.name = 'type'\n",
    "frame"
   ]
  },
  {
   "cell_type": "markdown",
   "id": "f377d116",
   "metadata": {},
   "source": [
    "#### Add / delete new column in data frame\n",
    "    - You can do this by simply assigning a value to the instance of the dataframe and specifying a new column name.\n",
    "      - ex : frame['new'] = [3.0,1.3,2.2,0.8,1.1]\n",
    "      - or create series : ser = pd.Series(np.arange(5))\n",
    "      - frame['new'] = ser\n",
    "    - delete : del frame['new'] or use drop()\n",
    "    - isin()      # API is used to check the presence\n",
    "    - filtering Data frame using frame[frame['price'] < 1.2] \n",
    "    - ser.idxmin()      # get the min index value\n",
    "    - ser.idxmax()      # get maximum index value"
   ]
  },
  {
   "cell_type": "code",
   "execution_count": 145,
   "id": "5a7bdc6d",
   "metadata": {},
   "outputs": [
    {
     "name": "stdout",
     "output_type": "stream",
     "text": [
      "type    ball  pen  pencil  paper  new\n",
      "colour                               \n",
      "red        0    1       2      3    0\n",
      "blue       4    5       6      7    1\n",
      "yellow     8    9      10     11    2\n",
      "white     12   13      14     15    3\n",
      "type     ball    pen  pencil  paper    new\n",
      "colour                                    \n",
      "red     False   True   False  False  False\n",
      "blue    False  False   False  False   True\n",
      "yellow  False  False   False  False  False\n",
      "white   False  False   False  False  False\n"
     ]
    },
    {
     "data": {
      "text/html": [
       "<div>\n",
       "<style scoped>\n",
       "    .dataframe tbody tr th:only-of-type {\n",
       "        vertical-align: middle;\n",
       "    }\n",
       "\n",
       "    .dataframe tbody tr th {\n",
       "        vertical-align: top;\n",
       "    }\n",
       "\n",
       "    .dataframe thead th {\n",
       "        text-align: right;\n",
       "    }\n",
       "</style>\n",
       "<table border=\"1\" class=\"dataframe\">\n",
       "  <thead>\n",
       "    <tr style=\"text-align: right;\">\n",
       "      <th>type</th>\n",
       "      <th>ball</th>\n",
       "      <th>pen</th>\n",
       "      <th>pencil</th>\n",
       "      <th>paper</th>\n",
       "      <th>new</th>\n",
       "    </tr>\n",
       "    <tr>\n",
       "      <th>colour</th>\n",
       "      <th></th>\n",
       "      <th></th>\n",
       "      <th></th>\n",
       "      <th></th>\n",
       "      <th></th>\n",
       "    </tr>\n",
       "  </thead>\n",
       "  <tbody>\n",
       "    <tr>\n",
       "      <th>red</th>\n",
       "      <td>0</td>\n",
       "      <td>1</td>\n",
       "      <td>2</td>\n",
       "      <td>3</td>\n",
       "      <td>0</td>\n",
       "    </tr>\n",
       "    <tr>\n",
       "      <th>blue</th>\n",
       "      <td>4</td>\n",
       "      <td>5</td>\n",
       "      <td>6</td>\n",
       "      <td>7</td>\n",
       "      <td>1</td>\n",
       "    </tr>\n",
       "  </tbody>\n",
       "</table>\n",
       "</div>"
      ],
      "text/plain": [
       "type    ball  pen  pencil  paper  new\n",
       "colour                               \n",
       "red        0    1       2      3    0\n",
       "blue       4    5       6      7    1"
      ]
     },
     "execution_count": 145,
     "metadata": {},
     "output_type": "execute_result"
    }
   ],
   "source": [
    "ser = pd.Series(np.arange(4), index=['red','blue','yellow','white'])\n",
    "frame['new'] = ser\n",
    "\n",
    "print(frame)\n",
    "\n",
    "print(frame.isin([1.0,'pen']))\n",
    "\n",
    "frame[frame['pen'] < 6] "
   ]
  },
  {
   "cell_type": "markdown",
   "id": "e092a0fb",
   "metadata": {},
   "source": [
    "#### series with duplicate index\n",
    "    - serd = pd.Series(range(6), index=['white','white','blue','green','green','yellow'])\n",
    "      - serd.index.is_unique  return true or false based on index"
   ]
  },
  {
   "cell_type": "code",
   "execution_count": 146,
   "id": "5caffd3a",
   "metadata": {},
   "outputs": [
    {
     "data": {
      "text/plain": [
       "white    0\n",
       "white    1\n",
       "dtype: int64"
      ]
     },
     "execution_count": 146,
     "metadata": {},
     "output_type": "execute_result"
    }
   ],
   "source": [
    "serd = pd.Series(range(6), index=['white','white','blue','green','green','yellow'])\n",
    "serd['white']"
   ]
  },
  {
   "cell_type": "markdown",
   "id": "4450558d",
   "metadata": {},
   "source": [
    "#### Reindexing, Droping and Alignment\n",
    "    - Reindexing : reindex() function.\n",
    "      - During reindexing, it is possible to change the order of the sequence of indexes, delete some of them, and add new ones\n",
    "      - automatic reindexing : use method \"method='ffill'\" or \"method='bfill'\" in reindex() function\n",
    "      - frame.reindex(range(5), method='ffill',columns=['colors','price','new','object'])   # for Dataframe reindexing\n",
    "    - Droping \n",
    "      - drop() : This method will return a new object without the items that you want to delete.\n",
    "      - define 'axis =1' to delete the column\n",
    "    - Alignment\n",
    "      - Pandas do alignment during arithmatic operations\n",
    "      - not only can the indexes between the two structures be in a different order, but they also can be present in only one of the two structures.\n",
    "      - For dataframe, alignment carried out both for the rows and for the columns.\n",
    "      - see next example for arithmatic operations"
   ]
  },
  {
   "cell_type": "code",
   "execution_count": 147,
   "id": "37ef2e22",
   "metadata": {},
   "outputs": [
    {
     "name": "stdout",
     "output_type": "stream",
     "text": [
      "Series before ReIndex one      2\n",
      "two      5\n",
      "three    7\n",
      "four     4\n",
      "dtype: int64\n",
      "Series after ReIndex three    7.0\n",
      "four     4.0\n",
      "five     NaN\n",
      "one      2.0\n",
      "dtype: float64\n",
      "Series before ffill or bfill 0    1\n",
      "3    5\n",
      "5    6\n",
      "dtype: int64\n",
      "Series with ffill 0    1\n",
      "1    1\n",
      "2    1\n",
      "3    5\n",
      "4    5\n",
      "dtype: int64\n",
      "Series with bfill 0    1\n",
      "1    5\n",
      "2    5\n",
      "3    5\n",
      "4    6\n",
      "dtype: int64\n"
     ]
    }
   ],
   "source": [
    "ser = pd.Series([2,5,7,4], index=['one','two','three','four'])\n",
    "print(\"Series before ReIndex\",ser)\n",
    "ser_reindex = ser.reindex(['three','four','five','one'])  \n",
    "print(\"Series after ReIndex\",ser_reindex)\n",
    "\n",
    "# missing index example\n",
    "ser3 = pd.Series([1,5,6],index=[0,3,5])\n",
    "print(\"Series before ffill or bfill\",ser3)\n",
    "ser_ffill = ser3.reindex(range(5), method='ffill')\n",
    "print(\"Series with ffill\",ser_ffill)\n",
    "\n",
    "ser_bfill = ser3.reindex(range(5), method='bfill')\n",
    "print(\"Series with bfill\",ser_bfill)"
   ]
  },
  {
   "cell_type": "code",
   "execution_count": 148,
   "id": "45f21a41",
   "metadata": {},
   "outputs": [
    {
     "name": "stdout",
     "output_type": "stream",
     "text": [
      "original frame :-\n",
      "         ball  pen  pencil  paper\n",
      "red        0    1       2      3\n",
      "blue       4    5       6      7\n",
      "yellow     8    9      10     11\n",
      "white     12   13      14     15\n",
      "frame after droping :-\n",
      "         ball  paper\n",
      "red        0      3\n",
      "blue       4      7\n",
      "yellow     8     11\n",
      "white     12     15\n"
     ]
    }
   ],
   "source": [
    "frame = pd.DataFrame(np.arange(16).reshape((4,4)),                \n",
    "                   index=['red','blue','yellow','white'],                \n",
    "                   columns=['ball','pen','pencil','paper'])\n",
    "print(\"original frame :-\\n\",frame)\n",
    "\n",
    "new_frame = frame.drop(['pen','pencil'], axis=1)\n",
    "print(\"frame after droping :-\\n\",new_frame)"
   ]
  },
  {
   "cell_type": "markdown",
   "id": "b5ace797",
   "metadata": {},
   "source": [
    "#### operation in dataframe\n",
    "    - When the labels are present in both operators, their values will be added, \n",
    "    - while in the opposite case, they will also be shown in the result (new series), but with the value NaN.\n",
    "    - add(), sub(), div(), mul()\n",
    "    - If operation between Dataframe and series then if new index is available in series new column is added \n",
    "    - value is applied for all values of the column, regardless of their index"
   ]
  },
  {
   "cell_type": "code",
   "execution_count": 149,
   "id": "6327c54e",
   "metadata": {},
   "outputs": [
    {
     "name": "stdout",
     "output_type": "stream",
     "text": [
      "frame1 :-\n",
      "         ball  pen  pencil  paper\n",
      "red        0    1       2      3\n",
      "blue       4    5       6      7\n",
      "yellow     8    9      10     11\n",
      "white     12   13      14     15\n",
      "frame2 :-\n",
      "         mug  pen  ball\n",
      "blue      0    1     2\n",
      "green     3    4     5\n",
      "white     6    7     8\n",
      "yellow    9   10    11\n"
     ]
    },
    {
     "data": {
      "text/html": [
       "<div>\n",
       "<style scoped>\n",
       "    .dataframe tbody tr th:only-of-type {\n",
       "        vertical-align: middle;\n",
       "    }\n",
       "\n",
       "    .dataframe tbody tr th {\n",
       "        vertical-align: top;\n",
       "    }\n",
       "\n",
       "    .dataframe thead th {\n",
       "        text-align: right;\n",
       "    }\n",
       "</style>\n",
       "<table border=\"1\" class=\"dataframe\">\n",
       "  <thead>\n",
       "    <tr style=\"text-align: right;\">\n",
       "      <th></th>\n",
       "      <th>ball</th>\n",
       "      <th>mug</th>\n",
       "      <th>paper</th>\n",
       "      <th>pen</th>\n",
       "      <th>pencil</th>\n",
       "    </tr>\n",
       "  </thead>\n",
       "  <tbody>\n",
       "    <tr>\n",
       "      <th>blue</th>\n",
       "      <td>6.0</td>\n",
       "      <td>NaN</td>\n",
       "      <td>NaN</td>\n",
       "      <td>6.0</td>\n",
       "      <td>NaN</td>\n",
       "    </tr>\n",
       "    <tr>\n",
       "      <th>green</th>\n",
       "      <td>NaN</td>\n",
       "      <td>NaN</td>\n",
       "      <td>NaN</td>\n",
       "      <td>NaN</td>\n",
       "      <td>NaN</td>\n",
       "    </tr>\n",
       "    <tr>\n",
       "      <th>red</th>\n",
       "      <td>NaN</td>\n",
       "      <td>NaN</td>\n",
       "      <td>NaN</td>\n",
       "      <td>NaN</td>\n",
       "      <td>NaN</td>\n",
       "    </tr>\n",
       "    <tr>\n",
       "      <th>white</th>\n",
       "      <td>20.0</td>\n",
       "      <td>NaN</td>\n",
       "      <td>NaN</td>\n",
       "      <td>20.0</td>\n",
       "      <td>NaN</td>\n",
       "    </tr>\n",
       "    <tr>\n",
       "      <th>yellow</th>\n",
       "      <td>19.0</td>\n",
       "      <td>NaN</td>\n",
       "      <td>NaN</td>\n",
       "      <td>19.0</td>\n",
       "      <td>NaN</td>\n",
       "    </tr>\n",
       "  </tbody>\n",
       "</table>\n",
       "</div>"
      ],
      "text/plain": [
       "        ball  mug  paper   pen  pencil\n",
       "blue     6.0  NaN    NaN   6.0     NaN\n",
       "green    NaN  NaN    NaN   NaN     NaN\n",
       "red      NaN  NaN    NaN   NaN     NaN\n",
       "white   20.0  NaN    NaN  20.0     NaN\n",
       "yellow  19.0  NaN    NaN  19.0     NaN"
      ]
     },
     "execution_count": 149,
     "metadata": {},
     "output_type": "execute_result"
    }
   ],
   "source": [
    "frame1 = pd.DataFrame(np.arange(16).reshape((4,4)),                \n",
    "                   index=['red','blue','yellow','white'],                \n",
    "                   columns=['ball','pen','pencil','paper'])   \n",
    "print(\"frame1 :-\\n\",frame1)             \n",
    "frame2 = pd.DataFrame(np.arange(12).reshape((4,3)),                \n",
    "                   index=['blue','green','white','yellow'],                \n",
    "                   columns=['mug','pen','ball'])\n",
    "print(\"frame2 :-\\n\",frame2)\n",
    "\n",
    "frame1 + frame2"
   ]
  },
  {
   "cell_type": "code",
   "execution_count": 150,
   "id": "af80d87d",
   "metadata": {},
   "outputs": [
    {
     "name": "stdout",
     "output_type": "stream",
     "text": [
      "frame :-\n",
      "         ball  pen  pencil  paper\n",
      "red        0    1       2      3\n",
      "blue       4    5       6      7\n",
      "yellow     8    9      10     11\n",
      "white     12   13      14     15\n",
      "series :-\n",
      " ball      0\n",
      "pen       1\n",
      "pencil    2\n",
      "paper     3\n",
      "mug       4\n",
      "dtype: int64\n"
     ]
    },
    {
     "data": {
      "text/html": [
       "<div>\n",
       "<style scoped>\n",
       "    .dataframe tbody tr th:only-of-type {\n",
       "        vertical-align: middle;\n",
       "    }\n",
       "\n",
       "    .dataframe tbody tr th {\n",
       "        vertical-align: top;\n",
       "    }\n",
       "\n",
       "    .dataframe thead th {\n",
       "        text-align: right;\n",
       "    }\n",
       "</style>\n",
       "<table border=\"1\" class=\"dataframe\">\n",
       "  <thead>\n",
       "    <tr style=\"text-align: right;\">\n",
       "      <th></th>\n",
       "      <th>ball</th>\n",
       "      <th>mug</th>\n",
       "      <th>paper</th>\n",
       "      <th>pen</th>\n",
       "      <th>pencil</th>\n",
       "    </tr>\n",
       "  </thead>\n",
       "  <tbody>\n",
       "    <tr>\n",
       "      <th>red</th>\n",
       "      <td>0</td>\n",
       "      <td>NaN</td>\n",
       "      <td>0</td>\n",
       "      <td>0</td>\n",
       "      <td>0</td>\n",
       "    </tr>\n",
       "    <tr>\n",
       "      <th>blue</th>\n",
       "      <td>4</td>\n",
       "      <td>NaN</td>\n",
       "      <td>4</td>\n",
       "      <td>4</td>\n",
       "      <td>4</td>\n",
       "    </tr>\n",
       "    <tr>\n",
       "      <th>yellow</th>\n",
       "      <td>8</td>\n",
       "      <td>NaN</td>\n",
       "      <td>8</td>\n",
       "      <td>8</td>\n",
       "      <td>8</td>\n",
       "    </tr>\n",
       "    <tr>\n",
       "      <th>white</th>\n",
       "      <td>12</td>\n",
       "      <td>NaN</td>\n",
       "      <td>12</td>\n",
       "      <td>12</td>\n",
       "      <td>12</td>\n",
       "    </tr>\n",
       "  </tbody>\n",
       "</table>\n",
       "</div>"
      ],
      "text/plain": [
       "        ball  mug  paper  pen  pencil\n",
       "red        0  NaN      0    0       0\n",
       "blue       4  NaN      4    4       4\n",
       "yellow     8  NaN      8    8       8\n",
       "white     12  NaN     12   12      12"
      ]
     },
     "execution_count": 150,
     "metadata": {},
     "output_type": "execute_result"
    }
   ],
   "source": [
    "frame = pd.DataFrame(np.arange(16).reshape((4,4)),                \n",
    "                   index=['red','blue','yellow','white'],                \n",
    "                   columns=['ball','pen','pencil','paper'])\n",
    "ser = pd.Series(np.arange(5), index = ['ball','pen','pencil','paper', 'mug'])\n",
    "\n",
    "print(\"frame :-\\n\",frame) \n",
    "print(\"series :-\\n\",ser) \n",
    "frame - ser"
   ]
  },
  {
   "cell_type": "markdown",
   "id": "19f71f6b",
   "metadata": {},
   "source": [
    "#### function\n",
    "    - ufunc  universal functions\n",
    "      - function apply to  each value in the dataframe\n",
    "      - np.sqrt(frame)\n",
    "    - user defined function\n",
    "      - ex : f = lambda x: x.max() - x.min()\n",
    "      - applymap() or map() : To apply on all elements\n",
    "      - apply() : use this to apply the function\n",
    "    - see in the example how to drop one and convert only one column\n",
    "    - describe() that allows you to obtain summary statistics at once."
   ]
  },
  {
   "cell_type": "code",
   "execution_count": 151,
   "id": "166dd546",
   "metadata": {},
   "outputs": [
    {
     "name": "stdout",
     "output_type": "stream",
     "text": [
      "sqrt_frame :-\n",
      "             ball       pen    pencil     paper\n",
      "red     0.000000  1.000000  1.414214  1.732051\n",
      "blue    2.000000  2.236068  2.449490  2.645751\n",
      "yellow  2.828427  3.000000  3.162278  3.316625\n",
      "white   3.464102  3.605551  3.741657  3.872983\n",
      "df :-\n",
      "      ball pen\n",
      "red    0A  0B\n",
      "blue   0C  0D\n",
      "apply on complete frame :-\n",
      "       ball  pen\n",
      "red     10   11\n",
      "blue    12   13\n",
      "apply on one column :-\n",
      " red     10\n",
      "blue    12\n",
      "Name: ball, dtype: int64\n",
      "new_frame :-\n",
      "      pen  ball\n",
      "red   0B    10\n",
      "blue  0D    12\n"
     ]
    },
    {
     "data": {
      "text/html": [
       "<div>\n",
       "<style scoped>\n",
       "    .dataframe tbody tr th:only-of-type {\n",
       "        vertical-align: middle;\n",
       "    }\n",
       "\n",
       "    .dataframe tbody tr th {\n",
       "        vertical-align: top;\n",
       "    }\n",
       "\n",
       "    .dataframe thead th {\n",
       "        text-align: right;\n",
       "    }\n",
       "</style>\n",
       "<table border=\"1\" class=\"dataframe\">\n",
       "  <thead>\n",
       "    <tr style=\"text-align: right;\">\n",
       "      <th></th>\n",
       "      <th>ball</th>\n",
       "      <th>pen</th>\n",
       "    </tr>\n",
       "  </thead>\n",
       "  <tbody>\n",
       "    <tr>\n",
       "      <th>red</th>\n",
       "      <td>10</td>\n",
       "      <td>0B</td>\n",
       "    </tr>\n",
       "    <tr>\n",
       "      <th>blue</th>\n",
       "      <td>12</td>\n",
       "      <td>0D</td>\n",
       "    </tr>\n",
       "  </tbody>\n",
       "</table>\n",
       "</div>"
      ],
      "text/plain": [
       "      ball pen\n",
       "red     10  0B\n",
       "blue    12  0D"
      ]
     },
     "execution_count": 151,
     "metadata": {},
     "output_type": "execute_result"
    }
   ],
   "source": [
    "sqrt_frame = np.sqrt(frame)\n",
    "print(\"sqrt_frame :-\\n\",sqrt_frame)\n",
    "\n",
    "data = [['0A', '0B'],\n",
    "        ['0C', '0D']]\n",
    "df = pd.DataFrame(data,\n",
    "                     index = ['red', 'blue'],\n",
    "                     columns= ['ball', 'pen'])\n",
    "print(\"df :-\\n\",df)\n",
    "f = lambda x: int(x, 16)\n",
    "\n",
    "#alternate way\n",
    "'''\n",
    "def f(x):                \n",
    "        return int(x, 16) \n",
    "'''\n",
    "#df.applymap(f)\n",
    "\n",
    "#alternate way\n",
    "'''\n",
    "df.map(lambda x: int(x, 16))\n",
    "df['ball'].apply(lambda x: int(x, 16))\n",
    "'''\n",
    "print(\"apply on complete frame :-\\n\",df.map(f))\n",
    "\n",
    "print(\"apply on one column :-\\n\",df['ball'].apply(f))\n",
    "\n",
    "# apply only to ball column. axis = 1 is for column\n",
    "new_frame = df.drop('ball', axis = 1).join(df['ball'].apply(f))\n",
    "print(\"new_frame :-\\n\",new_frame)\n",
    "\n",
    "# reorderd\n",
    "new_frame[['ball','pen']]"
   ]
  },
  {
   "cell_type": "code",
   "execution_count": 152,
   "id": "f68d3579",
   "metadata": {},
   "outputs": [
    {
     "data": {
      "text/html": [
       "<div>\n",
       "<style scoped>\n",
       "    .dataframe tbody tr th:only-of-type {\n",
       "        vertical-align: middle;\n",
       "    }\n",
       "\n",
       "    .dataframe tbody tr th {\n",
       "        vertical-align: top;\n",
       "    }\n",
       "\n",
       "    .dataframe thead th {\n",
       "        text-align: right;\n",
       "    }\n",
       "</style>\n",
       "<table border=\"1\" class=\"dataframe\">\n",
       "  <thead>\n",
       "    <tr style=\"text-align: right;\">\n",
       "      <th></th>\n",
       "      <th>ball</th>\n",
       "      <th>pen</th>\n",
       "      <th>pencil</th>\n",
       "      <th>paper</th>\n",
       "    </tr>\n",
       "  </thead>\n",
       "  <tbody>\n",
       "    <tr>\n",
       "      <th>count</th>\n",
       "      <td>4.000000</td>\n",
       "      <td>4.000000</td>\n",
       "      <td>4.000000</td>\n",
       "      <td>4.000000</td>\n",
       "    </tr>\n",
       "    <tr>\n",
       "      <th>mean</th>\n",
       "      <td>6.000000</td>\n",
       "      <td>7.000000</td>\n",
       "      <td>8.000000</td>\n",
       "      <td>9.000000</td>\n",
       "    </tr>\n",
       "    <tr>\n",
       "      <th>std</th>\n",
       "      <td>5.163978</td>\n",
       "      <td>5.163978</td>\n",
       "      <td>5.163978</td>\n",
       "      <td>5.163978</td>\n",
       "    </tr>\n",
       "    <tr>\n",
       "      <th>min</th>\n",
       "      <td>0.000000</td>\n",
       "      <td>1.000000</td>\n",
       "      <td>2.000000</td>\n",
       "      <td>3.000000</td>\n",
       "    </tr>\n",
       "    <tr>\n",
       "      <th>25%</th>\n",
       "      <td>3.000000</td>\n",
       "      <td>4.000000</td>\n",
       "      <td>5.000000</td>\n",
       "      <td>6.000000</td>\n",
       "    </tr>\n",
       "    <tr>\n",
       "      <th>50%</th>\n",
       "      <td>6.000000</td>\n",
       "      <td>7.000000</td>\n",
       "      <td>8.000000</td>\n",
       "      <td>9.000000</td>\n",
       "    </tr>\n",
       "    <tr>\n",
       "      <th>75%</th>\n",
       "      <td>9.000000</td>\n",
       "      <td>10.000000</td>\n",
       "      <td>11.000000</td>\n",
       "      <td>12.000000</td>\n",
       "    </tr>\n",
       "    <tr>\n",
       "      <th>max</th>\n",
       "      <td>12.000000</td>\n",
       "      <td>13.000000</td>\n",
       "      <td>14.000000</td>\n",
       "      <td>15.000000</td>\n",
       "    </tr>\n",
       "  </tbody>\n",
       "</table>\n",
       "</div>"
      ],
      "text/plain": [
       "            ball        pen     pencil      paper\n",
       "count   4.000000   4.000000   4.000000   4.000000\n",
       "mean    6.000000   7.000000   8.000000   9.000000\n",
       "std     5.163978   5.163978   5.163978   5.163978\n",
       "min     0.000000   1.000000   2.000000   3.000000\n",
       "25%     3.000000   4.000000   5.000000   6.000000\n",
       "50%     6.000000   7.000000   8.000000   9.000000\n",
       "75%     9.000000  10.000000  11.000000  12.000000\n",
       "max    12.000000  13.000000  14.000000  15.000000"
      ]
     },
     "execution_count": 152,
     "metadata": {},
     "output_type": "execute_result"
    }
   ],
   "source": [
    "frame.describe()"
   ]
  },
  {
   "cell_type": "markdown",
   "id": "4da1a511",
   "metadata": {},
   "source": [
    "#### Sorting\n",
    "    - ser.sort_index()                  # will sort in alphabatic order A-Z or 1 to increasing\n",
    "    - ser.sort_index(ascending=False)    # will sort in alphabatic order in Z-A or max to decreasing\n",
    "    - For Data frame :-\n",
    "      - frame.sort_index()               # will sort the index\n",
    "      - frame.sort_index(axis = 1)       # will sort the column\n",
    "    - sort_values()                      # will sort values\n",
    "      - For DataFrame, use \"frame.sort_values(by='column_name')\" specify name of the column\n",
    "    - correlation and covariance\n",
    "      - corr() and cov()    # use for this\n",
    "      - corrwith()          # to calculate correlation between 2\n",
    "        - ex : frame2.corrwith(frame)"
   ]
  },
  {
   "cell_type": "code",
   "execution_count": 153,
   "id": "d2487750",
   "metadata": {},
   "outputs": [
    {
     "name": "stdout",
     "output_type": "stream",
     "text": [
      "After sorting with column\n",
      "         ball  paper  pen  pencil\n",
      "red        0      3    1       2\n",
      "blue       4      7    5       6\n",
      "yellow     8     11    9      10\n",
      "white     12     15   13      14\n",
      "After sorting with column\n",
      "         ball  pen  pencil  paper\n",
      "white     12   13      14     15\n",
      "yellow     8    9      10     11\n",
      "blue       4    5       6      7\n",
      "red        0    1       2      3\n"
     ]
    }
   ],
   "source": [
    "print(\"After sorting with column\\n\",frame.sort_index(axis = 1))\n",
    "\n",
    "print(\"After sorting with column\\n\",frame.sort_values(by='paper',ascending=False))"
   ]
  }
 ],
 "metadata": {
  "kernelspec": {
   "display_name": "Python 3",
   "language": "python",
   "name": "python3"
  },
  "language_info": {
   "codemirror_mode": {
    "name": "ipython",
    "version": 3
   },
   "file_extension": ".py",
   "mimetype": "text/x-python",
   "name": "python",
   "nbconvert_exporter": "python",
   "pygments_lexer": "ipython3",
   "version": "3.13.5"
  }
 },
 "nbformat": 4,
 "nbformat_minor": 5
}
