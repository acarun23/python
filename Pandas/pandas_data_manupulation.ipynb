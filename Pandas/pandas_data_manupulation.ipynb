{
 "cells": [
  {
   "cell_type": "markdown",
   "id": "fc84770f",
   "metadata": {},
   "source": [
    "#### Data manupulation Steps\n",
    "    - Data preparation\n",
    "      - Loading\n",
    "      - Assembling\n",
    "        - Merging\n",
    "        - Concatenating\n",
    "        - Combining\n",
    "      - Reshaping (pivoting)\n",
    "      - Removing\n",
    "    - Data transformation\n",
    "    - Data aggregation"
   ]
  },
  {
   "cell_type": "markdown",
   "id": "da16922d",
   "metadata": {},
   "source": [
    "#### Data merging\n",
    "    - merge() : the returned dataframe consists of all rows that have an ID in common. In addition to the common column, the columns from the first and the second dataframe are added.\n",
    "    - if column name is common then add argument \"on='column_name'\" on which mergning need to perform.\n",
    "      - otherwise result will be empty\n",
    "    - if two dataframes in which the key columns do not have the same name.\n",
    "      - use \"left_on='column_name'\" and 'right_on' option\n",
    "      - pd.merge(frame1, frame2, left_on='id', right_on='sid')\n",
    "    - join() : function, which is much more convenient when you want to do the merging by indexes. It can also be used to combine many dataframe objects having the same indexes but with no columns overlapping.\n",
    "      - ex : frame1.join(frame2) "
   ]
  },
  {
   "cell_type": "code",
   "execution_count": 30,
   "id": "e8203bf9",
   "metadata": {},
   "outputs": [
    {
     "name": "stdout",
     "output_type": "stream",
     "text": [
      "No Common column name = \n",
      "        id  price  color\n",
      "0    ball  12.33    red\n",
      "1  pencil  11.44  white\n",
      "2  pencil  11.44    red\n",
      "3     pen  33.21  black\n"
     ]
    }
   ],
   "source": [
    "import numpy as np\n",
    "import pandas as pd\n",
    "\n",
    "frame1 = pd.DataFrame( {'id':['ball','pencil','pen','mug','ashtray'],                \n",
    "                      'price': [12.33,11.44,33.21,13.23,33.62]})\n",
    "frame2 = pd.DataFrame( {'id':['pencil','pencil','ball','pen'],                \n",
    "                      'color': ['white','red','red','black']})   \n",
    "print(\"No Common column name = \\n\",pd.merge(frame1,frame2))"
   ]
  },
  {
   "cell_type": "code",
   "execution_count": 31,
   "id": "8bbbaf41",
   "metadata": {},
   "outputs": [
    {
     "data": {
      "text/html": [
       "<div>\n",
       "<style scoped>\n",
       "    .dataframe tbody tr th:only-of-type {\n",
       "        vertical-align: middle;\n",
       "    }\n",
       "\n",
       "    .dataframe tbody tr th {\n",
       "        vertical-align: top;\n",
       "    }\n",
       "\n",
       "    .dataframe thead th {\n",
       "        text-align: right;\n",
       "    }\n",
       "</style>\n",
       "<table border=\"1\" class=\"dataframe\">\n",
       "  <thead>\n",
       "    <tr style=\"text-align: right;\">\n",
       "      <th></th>\n",
       "      <th>id_x</th>\n",
       "      <th>color</th>\n",
       "      <th>brand</th>\n",
       "      <th>id_y</th>\n",
       "    </tr>\n",
       "  </thead>\n",
       "  <tbody>\n",
       "    <tr>\n",
       "      <th>0</th>\n",
       "      <td>ball</td>\n",
       "      <td>white</td>\n",
       "      <td>OMG</td>\n",
       "      <td>pencil</td>\n",
       "    </tr>\n",
       "    <tr>\n",
       "      <th>1</th>\n",
       "      <td>pencil</td>\n",
       "      <td>red</td>\n",
       "      <td>ABC</td>\n",
       "      <td>ball</td>\n",
       "    </tr>\n",
       "    <tr>\n",
       "      <th>2</th>\n",
       "      <td>pen</td>\n",
       "      <td>red</td>\n",
       "      <td>ABC</td>\n",
       "      <td>ball</td>\n",
       "    </tr>\n",
       "    <tr>\n",
       "      <th>3</th>\n",
       "      <td>mug</td>\n",
       "      <td>black</td>\n",
       "      <td>POD</td>\n",
       "      <td>pencil</td>\n",
       "    </tr>\n",
       "    <tr>\n",
       "      <th>4</th>\n",
       "      <td>mug</td>\n",
       "      <td>black</td>\n",
       "      <td>POD</td>\n",
       "      <td>pen</td>\n",
       "    </tr>\n",
       "    <tr>\n",
       "      <th>5</th>\n",
       "      <td>ashtray</td>\n",
       "      <td>green</td>\n",
       "      <td>POD</td>\n",
       "      <td>pencil</td>\n",
       "    </tr>\n",
       "    <tr>\n",
       "      <th>6</th>\n",
       "      <td>ashtray</td>\n",
       "      <td>green</td>\n",
       "      <td>POD</td>\n",
       "      <td>pen</td>\n",
       "    </tr>\n",
       "  </tbody>\n",
       "</table>\n",
       "</div>"
      ],
      "text/plain": [
       "      id_x  color brand    id_y\n",
       "0     ball  white   OMG  pencil\n",
       "1   pencil    red   ABC    ball\n",
       "2      pen    red   ABC    ball\n",
       "3      mug  black   POD  pencil\n",
       "4      mug  black   POD     pen\n",
       "5  ashtray  green   POD  pencil\n",
       "6  ashtray  green   POD     pen"
      ]
     },
     "execution_count": 31,
     "metadata": {},
     "output_type": "execute_result"
    }
   ],
   "source": [
    "frame1 = pd.DataFrame( {'id':['ball','pencil','pen','mug','ashtray'],                \n",
    "                      'color': ['white','red','red','black','green'],                \n",
    "                      'brand': ['OMG','ABC','ABC','POD','POD']})\n",
    "frame2 = pd.DataFrame( {'id':['pencil','pencil','ball','pen'],                \n",
    "                      'brand': ['OMG','POD','ABC','POD']})  \n",
    "pd.merge(frame1,frame2,on='brand') "
   ]
  },
  {
   "cell_type": "code",
   "execution_count": 32,
   "id": "aa563d26",
   "metadata": {},
   "outputs": [
    {
     "data": {
      "text/html": [
       "<div>\n",
       "<style scoped>\n",
       "    .dataframe tbody tr th:only-of-type {\n",
       "        vertical-align: middle;\n",
       "    }\n",
       "\n",
       "    .dataframe tbody tr th {\n",
       "        vertical-align: top;\n",
       "    }\n",
       "\n",
       "    .dataframe thead th {\n",
       "        text-align: right;\n",
       "    }\n",
       "</style>\n",
       "<table border=\"1\" class=\"dataframe\">\n",
       "  <thead>\n",
       "    <tr style=\"text-align: right;\">\n",
       "      <th></th>\n",
       "      <th>id</th>\n",
       "      <th>color</th>\n",
       "      <th>brand_x</th>\n",
       "      <th>sid</th>\n",
       "      <th>brand_y</th>\n",
       "    </tr>\n",
       "  </thead>\n",
       "  <tbody>\n",
       "    <tr>\n",
       "      <th>0</th>\n",
       "      <td>ball</td>\n",
       "      <td>white</td>\n",
       "      <td>OMG</td>\n",
       "      <td>ball</td>\n",
       "      <td>ABC</td>\n",
       "    </tr>\n",
       "    <tr>\n",
       "      <th>1</th>\n",
       "      <td>pencil</td>\n",
       "      <td>red</td>\n",
       "      <td>ABC</td>\n",
       "      <td>pencil</td>\n",
       "      <td>OMG</td>\n",
       "    </tr>\n",
       "    <tr>\n",
       "      <th>2</th>\n",
       "      <td>pencil</td>\n",
       "      <td>red</td>\n",
       "      <td>ABC</td>\n",
       "      <td>pencil</td>\n",
       "      <td>POD</td>\n",
       "    </tr>\n",
       "    <tr>\n",
       "      <th>3</th>\n",
       "      <td>pen</td>\n",
       "      <td>red</td>\n",
       "      <td>ABC</td>\n",
       "      <td>pen</td>\n",
       "      <td>POD</td>\n",
       "    </tr>\n",
       "  </tbody>\n",
       "</table>\n",
       "</div>"
      ],
      "text/plain": [
       "       id  color brand_x     sid brand_y\n",
       "0    ball  white     OMG    ball     ABC\n",
       "1  pencil    red     ABC  pencil     OMG\n",
       "2  pencil    red     ABC  pencil     POD\n",
       "3     pen    red     ABC     pen     POD"
      ]
     },
     "execution_count": 32,
     "metadata": {},
     "output_type": "execute_result"
    }
   ],
   "source": [
    "frame2.columns = ['sid','brand']\n",
    "pd.merge(frame1, frame2, left_on='id', right_on='sid')"
   ]
  },
  {
   "cell_type": "code",
   "execution_count": 33,
   "id": "744fe2a4",
   "metadata": {},
   "outputs": [
    {
     "data": {
      "text/html": [
       "<div>\n",
       "<style scoped>\n",
       "    .dataframe tbody tr th:only-of-type {\n",
       "        vertical-align: middle;\n",
       "    }\n",
       "\n",
       "    .dataframe tbody tr th {\n",
       "        vertical-align: top;\n",
       "    }\n",
       "\n",
       "    .dataframe thead th {\n",
       "        text-align: right;\n",
       "    }\n",
       "</style>\n",
       "<table border=\"1\" class=\"dataframe\">\n",
       "  <thead>\n",
       "    <tr style=\"text-align: right;\">\n",
       "      <th></th>\n",
       "      <th>id</th>\n",
       "      <th>color</th>\n",
       "      <th>brand</th>\n",
       "      <th>id_2</th>\n",
       "      <th>brand_2</th>\n",
       "    </tr>\n",
       "  </thead>\n",
       "  <tbody>\n",
       "    <tr>\n",
       "      <th>0</th>\n",
       "      <td>ball</td>\n",
       "      <td>white</td>\n",
       "      <td>OMG</td>\n",
       "      <td>pencil</td>\n",
       "      <td>OMG</td>\n",
       "    </tr>\n",
       "    <tr>\n",
       "      <th>1</th>\n",
       "      <td>pencil</td>\n",
       "      <td>red</td>\n",
       "      <td>ABC</td>\n",
       "      <td>pencil</td>\n",
       "      <td>POD</td>\n",
       "    </tr>\n",
       "    <tr>\n",
       "      <th>2</th>\n",
       "      <td>pen</td>\n",
       "      <td>red</td>\n",
       "      <td>ABC</td>\n",
       "      <td>ball</td>\n",
       "      <td>ABC</td>\n",
       "    </tr>\n",
       "    <tr>\n",
       "      <th>3</th>\n",
       "      <td>mug</td>\n",
       "      <td>black</td>\n",
       "      <td>POD</td>\n",
       "      <td>pen</td>\n",
       "      <td>POD</td>\n",
       "    </tr>\n",
       "    <tr>\n",
       "      <th>4</th>\n",
       "      <td>ashtray</td>\n",
       "      <td>green</td>\n",
       "      <td>POD</td>\n",
       "      <td>NaN</td>\n",
       "      <td>NaN</td>\n",
       "    </tr>\n",
       "  </tbody>\n",
       "</table>\n",
       "</div>"
      ],
      "text/plain": [
       "        id  color brand    id_2 brand_2\n",
       "0     ball  white   OMG  pencil     OMG\n",
       "1   pencil    red   ABC  pencil     POD\n",
       "2      pen    red   ABC    ball     ABC\n",
       "3      mug  black   POD     pen     POD\n",
       "4  ashtray  green   POD     NaN     NaN"
      ]
     },
     "execution_count": 33,
     "metadata": {},
     "output_type": "execute_result"
    }
   ],
   "source": [
    "frame2.columns = ['id_2','brand_2']\n",
    "frame1.join(frame2)"
   ]
  },
  {
   "cell_type": "markdown",
   "id": "a35ebf95",
   "metadata": {},
   "source": [
    "#### string manupulation\n",
    "    - text.split(',')       # use to split using ,\n",
    "    - s.strip() strips the spaces       # example in code\n",
    "\n",
    "    - 'join_character'.join(list_of_strings)\n",
    "      - Ex : ';'.join(strings)\n",
    "    - text.index('Boston') and text.find('Boston')    # use these to find the character in string\n",
    "    - If substring not found \n",
    "      - index() function returns an error message\n",
    "      - find() returns -1 if the substring is not found.\n",
    "    - to replace text use \"text.replace('Avenue','Street')\""
   ]
  },
  {
   "cell_type": "code",
   "execution_count": 34,
   "id": "870c2d82",
   "metadata": {},
   "outputs": [
    {
     "name": "stdout",
     "output_type": "stream",
     "text": [
      "splitted_text =  ['6 Bolton Avenue ', ' Boston']\n",
      "splitted_text_without_space =  ['6 Bolton Avenue', 'Boston']\n"
     ]
    },
    {
     "data": {
      "text/plain": [
       "'A+;A;A-;B;BB;BBB;C+'"
      ]
     },
     "execution_count": 34,
     "metadata": {},
     "output_type": "execute_result"
    }
   ],
   "source": [
    "text = '6 Bolton Avenue , Boston'\n",
    "splitted_text = text.split(',')\n",
    "\n",
    "print(\"splitted_text = \",splitted_text)\n",
    "\n",
    "# one space is there after avenue. to overcome this use strip\n",
    "splitted_text_without_space = [s.strip() for s in text.split(',')]\n",
    "print(\"splitted_text_without_space = \",splitted_text_without_space)\n",
    "\n",
    "strings = ['A+','A','A-','B','BB','BBB','C+'] \n",
    "';'.join(strings)"
   ]
  },
  {
   "cell_type": "code",
   "execution_count": 35,
   "id": "02f7ea26",
   "metadata": {},
   "outputs": [
    {
     "name": "stdout",
     "output_type": "stream",
     "text": [
      "text at index using index =  18\n",
      "text at index using find =  18\n"
     ]
    }
   ],
   "source": [
    "print(\"text at index using index = \",text.index('Boston'))\n",
    "print(\"text at index using find = \",text.find('Boston'))"
   ]
  },
  {
   "cell_type": "markdown",
   "id": "b72c0902",
   "metadata": {},
   "source": [
    "#### Regular Expressions\n",
    "    - Regular expressions provide a very flexible way to search and match string patterns within text. A single expression, generically called regex\n",
    "      - first \"import re\"\n",
    "    - for splitting use : 're.split(r'\\s+', text)'\n",
    "    - 'findall()'   # to find substring in the text\n",
    "      - ex : re.findall(r'A\\w+',text)        # search string with chanracter 'A'\n",
    "      - re.findall(r'[A,a]\\w+',text)         # will serach for text with 'A' or 'a'\n",
    "    - search()      # to find the index for the character\n",
    "      - returns only the first match\n",
    "      - re.search(r'[A,a]\\w+',text)\n",
    "      - use 'start()' and 'end()' to get the start and end index\n",
    "    - match() function performs matching only at the beginning of the string; \n",
    "      - if there is no match to the first character, it goes no farther in research within the string.\n",
    "      - If you do not find a match, then it will not return any objects."
   ]
  },
  {
   "cell_type": "code",
   "execution_count": 36,
   "id": "9909bc6f",
   "metadata": {},
   "outputs": [
    {
     "data": {
      "text/plain": [
       "['6', 'Bolton', 'Avenue', ',', 'Boston']"
      ]
     },
     "execution_count": 36,
     "metadata": {},
     "output_type": "execute_result"
    }
   ],
   "source": [
    "import re\n",
    "re.split(r'\\s+', text)"
   ]
  },
  {
   "cell_type": "code",
   "execution_count": 37,
   "id": "71d06b21",
   "metadata": {},
   "outputs": [
    {
     "data": {
      "text/plain": [
       "['6', 'Bolton', 'Avenue', ',', 'Boston']"
      ]
     },
     "execution_count": 37,
     "metadata": {},
     "output_type": "execute_result"
    }
   ],
   "source": [
    "# another way first compile it and then split\n",
    "regex = re.compile(r'\\s+')\n",
    "regex.split(text)"
   ]
  },
  {
   "cell_type": "code",
   "execution_count": 38,
   "id": "535ac26b",
   "metadata": {},
   "outputs": [
    {
     "name": "stdout",
     "output_type": "stream",
     "text": [
      "string_with_A =  ['Avenue']\n",
      "string_with_A_or_a =  ['address', 'Avenue']\n"
     ]
    }
   ],
   "source": [
    "# search string\n",
    "text = 'This is my address: 16 Bolton Avenue, Boston'\n",
    "string_with_A = re.findall(r'A\\w+',text)\n",
    "string_with_A_or_a = re.findall(r'[A,a]\\w+',text)\n",
    "\n",
    "print(\"string_with_A = \",string_with_A)\n",
    "print(\"string_with_A_or_a = \",string_with_A_or_a)"
   ]
  },
  {
   "cell_type": "code",
   "execution_count": 39,
   "id": "5f5e1a51",
   "metadata": {},
   "outputs": [
    {
     "name": "stdout",
     "output_type": "stream",
     "text": [
      "serach_api_call =  <re.Match object; span=(11, 18), match='address'>\n",
      "start_index=  11 , end_index =  18\n",
      "returned_text =  address\n"
     ]
    }
   ],
   "source": [
    "serach_api_call = re.search(r'[A,a]\\w+',text)\n",
    "\n",
    "print(\"serach_api_call = \",serach_api_call)\n",
    "\n",
    "start_index = serach_api_call.start()\n",
    "end_index = serach_api_call.end()\n",
    "\n",
    "returned_text = text[start_index : end_index]\n",
    "\n",
    "# alternatively you can call\n",
    "# text[search.start():search.end()]\n",
    "\n",
    "print(\"start_index= \",start_index, ',',\"end_index = \",end_index)\n",
    "print(\"returned_text = \",returned_text)"
   ]
  }
 ],
 "metadata": {
  "kernelspec": {
   "display_name": "Python 3",
   "language": "python",
   "name": "python3"
  },
  "language_info": {
   "codemirror_mode": {
    "name": "ipython",
    "version": 3
   },
   "file_extension": ".py",
   "mimetype": "text/x-python",
   "name": "python",
   "nbconvert_exporter": "python",
   "pygments_lexer": "ipython3",
   "version": "3.13.5"
  }
 },
 "nbformat": 4,
 "nbformat_minor": 5
}
