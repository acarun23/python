{
 "cells": [
  {
   "cell_type": "markdown",
   "id": "5e96d900",
   "metadata": {},
   "source": [
    "| Readers | Writers |\n",
    "|---------|---------|\n",
    "| read_csv | to_csv |\n",
    "| read_excel  | to_excel | \n",
    "| read_hdf | to_hdf | \n",
    "| read_sql | to_sql | \n",
    "| read_json | to_json | \n",
    "| read_html | to_html | \n",
    "| read_stata | to_stata | \n",
    "| read_clipboard | to_clipboard | \n",
    "| read_pickle | to_pickle | \n",
    "| read_msgpack | to_msgpack (experimental) | \n",
    "| read_gbq | to_gbq (experimental) | "
   ]
  },
  {
   "cell_type": "markdown",
   "id": "d5cff445",
   "metadata": {},
   "source": [
    "#### Read CSV (comma-separated values) or Txt file\n",
    "    - tabular data can be separated by spaces or tabs and are typically contained in text files of various types (generally with the .txt extension).\n",
    "    - read_csv(file_name), read_table, to_csv\n",
    "    - csv file is with comma delimited. Ex : 12,sga,256,26\n",
    " - Without header\n",
    "   - if csv file is without header then first row will be treated as header\n",
    "     - to overcome this use \"pd.read_csv('ch05_02.csv', header=None)\"\n",
    "     - add names to the header using \"names=['white','red','blue','green','animal']\" argument\n",
    "   - \"index_col\" option, assigning all the columns to be converted into indexes."
   ]
  },
  {
   "cell_type": "code",
   "execution_count": 121,
   "id": "0279a18f",
   "metadata": {},
   "outputs": [
    {
     "data": {
      "text/html": [
       "<div>\n",
       "<style scoped>\n",
       "    .dataframe tbody tr th:only-of-type {\n",
       "        vertical-align: middle;\n",
       "    }\n",
       "\n",
       "    .dataframe tbody tr th {\n",
       "        vertical-align: top;\n",
       "    }\n",
       "\n",
       "    .dataframe thead th {\n",
       "        text-align: right;\n",
       "    }\n",
       "</style>\n",
       "<table border=\"1\" class=\"dataframe\">\n",
       "  <thead>\n",
       "    <tr style=\"text-align: right;\">\n",
       "      <th></th>\n",
       "      <th>white</th>\n",
       "      <th>red</th>\n",
       "      <th>blue</th>\n",
       "      <th>green</th>\n",
       "      <th>animal</th>\n",
       "    </tr>\n",
       "  </thead>\n",
       "  <tbody>\n",
       "    <tr>\n",
       "      <th>0</th>\n",
       "      <td>1</td>\n",
       "      <td>5</td>\n",
       "      <td>2</td>\n",
       "      <td>3</td>\n",
       "      <td>cat</td>\n",
       "    </tr>\n",
       "    <tr>\n",
       "      <th>1</th>\n",
       "      <td>2</td>\n",
       "      <td>7</td>\n",
       "      <td>8</td>\n",
       "      <td>5</td>\n",
       "      <td>dog</td>\n",
       "    </tr>\n",
       "    <tr>\n",
       "      <th>2</th>\n",
       "      <td>3</td>\n",
       "      <td>3</td>\n",
       "      <td>6</td>\n",
       "      <td>7</td>\n",
       "      <td>horse</td>\n",
       "    </tr>\n",
       "    <tr>\n",
       "      <th>3</th>\n",
       "      <td>2</td>\n",
       "      <td>2</td>\n",
       "      <td>8</td>\n",
       "      <td>3</td>\n",
       "      <td>duck</td>\n",
       "    </tr>\n",
       "    <tr>\n",
       "      <th>4</th>\n",
       "      <td>4</td>\n",
       "      <td>4</td>\n",
       "      <td>2</td>\n",
       "      <td>1</td>\n",
       "      <td>mouse</td>\n",
       "    </tr>\n",
       "  </tbody>\n",
       "</table>\n",
       "</div>"
      ],
      "text/plain": [
       "   white  red  blue  green animal              \n",
       "0      1    5     2      3    cat              \n",
       "1      2    7     8      5    dog              \n",
       "2      3    3     6      7  horse              \n",
       "3      2    2     8      3   duck              \n",
       "4      4    4     2      1                mouse"
      ]
     },
     "execution_count": 121,
     "metadata": {},
     "output_type": "execute_result"
    }
   ],
   "source": [
    "import pandas as pd\n",
    "import numpy as np\n",
    "\n",
    "CSV_File_Path = './files/csv_ex.csv'\n",
    "\n",
    "csvframe = pd.read_csv(CSV_File_Path)\n",
    "# alternatively you can use\n",
    "pd.read_table(CSV_File_Path,sep=',') "
   ]
  },
  {
   "cell_type": "code",
   "execution_count": 20,
   "id": "ea52b966",
   "metadata": {},
   "outputs": [
    {
     "name": "stdout",
     "output_type": "stream",
     "text": [
      "csv without header\n",
      "    0  1  2  3                    4\n",
      "0  1  5  2  3    cat              \n",
      "1  2  7  8  5    dog              \n",
      "2  3  3  6  7  horse              \n",
      "3  2  2  8  3   duck              \n",
      "4  4  4  2  1                mouse\n",
      "csv without header\n",
      "    white  red  blue  green               animal\n",
      "0      1    5     2      3    cat              \n",
      "1      2    7     8      5    dog              \n",
      "2      3    3     6      7  horse              \n",
      "3      2    2     8      3   duck              \n",
      "4      4    4     2      1                mouse\n"
     ]
    }
   ],
   "source": [
    "CSV_WITHOUT_HEADER = './files/csv_without_header.csv'\n",
    "csvframe = pd.read_csv(CSV_WITHOUT_HEADER, header=None)\n",
    "print(\"csv without header\\n\",csvframe)\n",
    "\n",
    "csvframe = pd.read_csv(CSV_WITHOUT_HEADER, names=['white','red','blue','green','animal'])\n",
    "print(\"csv without header\\n\",csvframe)"
   ]
  },
  {
   "cell_type": "code",
   "execution_count": 29,
   "id": "539025ff",
   "metadata": {},
   "outputs": [
    {
     "data": {
      "text/html": [
       "<div>\n",
       "<style scoped>\n",
       "    .dataframe tbody tr th:only-of-type {\n",
       "        vertical-align: middle;\n",
       "    }\n",
       "\n",
       "    .dataframe tbody tr th {\n",
       "        vertical-align: top;\n",
       "    }\n",
       "\n",
       "    .dataframe thead th {\n",
       "        text-align: right;\n",
       "    }\n",
       "</style>\n",
       "<table border=\"1\" class=\"dataframe\">\n",
       "  <thead>\n",
       "    <tr style=\"text-align: right;\">\n",
       "      <th></th>\n",
       "      <th></th>\n",
       "      <th>white</th>\n",
       "      <th>green</th>\n",
       "      <th>animal</th>\n",
       "    </tr>\n",
       "    <tr>\n",
       "      <th>blue</th>\n",
       "      <th>red</th>\n",
       "      <th></th>\n",
       "      <th></th>\n",
       "      <th></th>\n",
       "    </tr>\n",
       "  </thead>\n",
       "  <tbody>\n",
       "    <tr>\n",
       "      <th>2</th>\n",
       "      <th>5</th>\n",
       "      <td>1</td>\n",
       "      <td>3</td>\n",
       "      <td>cat</td>\n",
       "    </tr>\n",
       "    <tr>\n",
       "      <th>8</th>\n",
       "      <th>7</th>\n",
       "      <td>2</td>\n",
       "      <td>5</td>\n",
       "      <td>dog</td>\n",
       "    </tr>\n",
       "    <tr>\n",
       "      <th>6</th>\n",
       "      <th>3</th>\n",
       "      <td>3</td>\n",
       "      <td>7</td>\n",
       "      <td>horse</td>\n",
       "    </tr>\n",
       "    <tr>\n",
       "      <th>8</th>\n",
       "      <th>2</th>\n",
       "      <td>2</td>\n",
       "      <td>3</td>\n",
       "      <td>duck</td>\n",
       "    </tr>\n",
       "    <tr>\n",
       "      <th>2</th>\n",
       "      <th>4</th>\n",
       "      <td>4</td>\n",
       "      <td>1</td>\n",
       "      <td>mouse</td>\n",
       "    </tr>\n",
       "  </tbody>\n",
       "</table>\n",
       "</div>"
      ],
      "text/plain": [
       "          white  green animal              \n",
       "blue red                                   \n",
       "2    5        1      3    cat              \n",
       "8    7        2      5    dog              \n",
       "6    3        3      7  horse              \n",
       "8    2        2      3   duck              \n",
       "2    4        4      1                mouse"
      ]
     },
     "execution_count": 29,
     "metadata": {},
     "output_type": "execute_result"
    }
   ],
   "source": [
    "pd.read_csv(CSV_File_Path, index_col=['blue','red'])"
   ]
  },
  {
   "cell_type": "markdown",
   "id": "0a7680d5",
   "metadata": {},
   "source": [
    "#### Regexp to Parse TXT Files\n",
    "    - separators are not well defined with commas or smicolon or spaces\n",
    "    - specify a regexp within the read_table() function using the sep option\n",
    "    - Example := spaces and tabs are in unpredictable order\n",
    "      - use r'\\s+' this regexp\n",
    "      - example : pd.read_table(irregular_space_file, sep=r'\\s+', engine='python', header = None)\n",
    "\n",
    "| Metacharacters | |\n",
    "| --------------------------|----------|\n",
    "| . | Single character, except newline |\n",
    "| \\d | Digit | \n",
    "| \\D | Non-digit character | \n",
    "| \\s | Whitespace character | \n",
    "| \\S | Non-whitespace character | \n",
    "| \\n | New line character | \n",
    "| \\t | Tab character | \n",
    "| \\uxxxx | Unicode character specified by the hexadecimal number xxxx | \n",
    "\n",
    "- if wants to skip some rows use \"skiprows\"\n",
    "  - Ex : \"pd.read_table('ch05_06.txt',sep=',',skiprows=[0,1,3,6])\""
   ]
  },
  {
   "cell_type": "code",
   "execution_count": 95,
   "id": "7d213247",
   "metadata": {},
   "outputs": [
    {
     "data": {
      "text/plain": [
       "['ar', 'f', 's', '34']"
      ]
     },
     "execution_count": 95,
     "metadata": {},
     "output_type": "execute_result"
    }
   ],
   "source": [
    "import re\n",
    "ser = pd.Series(['ar  f s\\t\\t34','vah34'])\n",
    "#ser[0].split(sep='\\s+')\n",
    "re.split(r'\\s+',ser[0])"
   ]
  },
  {
   "cell_type": "code",
   "execution_count": 96,
   "id": "c3dc4d75",
   "metadata": {},
   "outputs": [
    {
     "name": "stdout",
     "output_type": "stream",
     "text": [
      "file_actual_data =                        0\n",
      "0  svjxs  wuuj       34\n"
     ]
    },
    {
     "data": {
      "text/html": [
       "<div>\n",
       "<style scoped>\n",
       "    .dataframe tbody tr th:only-of-type {\n",
       "        vertical-align: middle;\n",
       "    }\n",
       "\n",
       "    .dataframe tbody tr th {\n",
       "        vertical-align: top;\n",
       "    }\n",
       "\n",
       "    .dataframe thead th {\n",
       "        text-align: right;\n",
       "    }\n",
       "</style>\n",
       "<table border=\"1\" class=\"dataframe\">\n",
       "  <thead>\n",
       "    <tr style=\"text-align: right;\">\n",
       "      <th></th>\n",
       "      <th>0</th>\n",
       "      <th>1</th>\n",
       "      <th>2</th>\n",
       "    </tr>\n",
       "  </thead>\n",
       "  <tbody>\n",
       "    <tr>\n",
       "      <th>0</th>\n",
       "      <td>svjxs</td>\n",
       "      <td>wuuj</td>\n",
       "      <td>34</td>\n",
       "    </tr>\n",
       "  </tbody>\n",
       "</table>\n",
       "</div>"
      ],
      "text/plain": [
       "       0     1   2\n",
       "0  svjxs  wuuj  34"
      ]
     },
     "execution_count": 96,
     "metadata": {},
     "output_type": "execute_result"
    }
   ],
   "source": [
    "irregular_space_file = './files/irregularspace.txt'\n",
    "file_actual_data = pd.read_table(irregular_space_file,header = None)\n",
    "print(\"file_actual_data = \",file_actual_data)\n",
    "\n",
    "# another way of parsing\n",
    "#file_parsed_data = pd.read_table(irregular_space_file,header = None,sep=r'\\s+', engine='python')\n",
    "#print(\"file_parsed_data = \\n\",file_parsed_data)\n",
    "\n",
    "pd.read_table(irregular_space_file, sep=r'\\s+', engine='python', header = None)"
   ]
  },
  {
   "cell_type": "code",
   "execution_count": 119,
   "id": "b5779c08",
   "metadata": {},
   "outputs": [
    {
     "data": {
      "text/plain": [
       "['123', '24', '34']"
      ]
     },
     "execution_count": 119,
     "metadata": {},
     "output_type": "execute_result"
    }
   ],
   "source": [
    "Data = '123ads24bhs34'\n",
    "\n",
    "regex = r'\\D+'\n",
    "#re.split(r'\\D+',Data)\n",
    "re.split(regex,Data)"
   ]
  },
  {
   "cell_type": "markdown",
   "id": "56166c00",
   "metadata": {},
   "source": [
    "#### write Data to CSV\n",
    "    - to_csv() used to write to csv file\n",
    "    - if don't want to write header and index then use\n",
    "      - frame.to_csv('ch05_07b.csv', index=False, header=False) \n",
    "    - if there are some NaN values then use\n",
    "      - frame3.to_csv('ch05_09.csv', na_rep ='NaN') "
   ]
  },
  {
   "cell_type": "code",
   "execution_count": 123,
   "id": "1776979a",
   "metadata": {},
   "outputs": [
    {
     "data": {
      "text/html": [
       "<div>\n",
       "<style scoped>\n",
       "    .dataframe tbody tr th:only-of-type {\n",
       "        vertical-align: middle;\n",
       "    }\n",
       "\n",
       "    .dataframe tbody tr th {\n",
       "        vertical-align: top;\n",
       "    }\n",
       "\n",
       "    .dataframe thead th {\n",
       "        text-align: right;\n",
       "    }\n",
       "</style>\n",
       "<table border=\"1\" class=\"dataframe\">\n",
       "  <thead>\n",
       "    <tr style=\"text-align: right;\">\n",
       "      <th></th>\n",
       "      <th>Unnamed: 0</th>\n",
       "      <th>ball</th>\n",
       "      <th>pen</th>\n",
       "      <th>pencil</th>\n",
       "      <th>paper</th>\n",
       "    </tr>\n",
       "  </thead>\n",
       "  <tbody>\n",
       "    <tr>\n",
       "      <th>0</th>\n",
       "      <td>red</td>\n",
       "      <td>0</td>\n",
       "      <td>1</td>\n",
       "      <td>2</td>\n",
       "      <td>3</td>\n",
       "    </tr>\n",
       "    <tr>\n",
       "      <th>1</th>\n",
       "      <td>blue</td>\n",
       "      <td>4</td>\n",
       "      <td>5</td>\n",
       "      <td>6</td>\n",
       "      <td>7</td>\n",
       "    </tr>\n",
       "    <tr>\n",
       "      <th>2</th>\n",
       "      <td>yellow</td>\n",
       "      <td>8</td>\n",
       "      <td>9</td>\n",
       "      <td>10</td>\n",
       "      <td>11</td>\n",
       "    </tr>\n",
       "    <tr>\n",
       "      <th>3</th>\n",
       "      <td>white</td>\n",
       "      <td>12</td>\n",
       "      <td>13</td>\n",
       "      <td>14</td>\n",
       "      <td>15</td>\n",
       "    </tr>\n",
       "  </tbody>\n",
       "</table>\n",
       "</div>"
      ],
      "text/plain": [
       "  Unnamed: 0  ball  pen  pencil  paper\n",
       "0        red     0    1       2      3\n",
       "1       blue     4    5       6      7\n",
       "2     yellow     8    9      10     11\n",
       "3      white    12   13      14     15"
      ]
     },
     "execution_count": 123,
     "metadata": {},
     "output_type": "execute_result"
    }
   ],
   "source": [
    "CSV_WRITE_WITH_HEADER = './files/csv_write_with_header.csv'\n",
    "frame = pd.DataFrame(np.arange(16).reshape((4,4)),                \n",
    "               index = ['red', 'blue', 'yellow', 'white'],                \n",
    "               columns = ['ball', 'pen', 'pencil', 'paper'])\n",
    "\n",
    "frame.to_csv(CSV_WRITE_WITH_HEADER)\n",
    "\n",
    "pd.read_csv(CSV_WRITE_WITH_HEADER)\n"
   ]
  },
  {
   "cell_type": "code",
   "execution_count": 126,
   "id": "5ad916d0",
   "metadata": {},
   "outputs": [
    {
     "data": {
      "text/html": [
       "<div>\n",
       "<style scoped>\n",
       "    .dataframe tbody tr th:only-of-type {\n",
       "        vertical-align: middle;\n",
       "    }\n",
       "\n",
       "    .dataframe tbody tr th {\n",
       "        vertical-align: top;\n",
       "    }\n",
       "\n",
       "    .dataframe thead th {\n",
       "        text-align: right;\n",
       "    }\n",
       "</style>\n",
       "<table border=\"1\" class=\"dataframe\">\n",
       "  <thead>\n",
       "    <tr style=\"text-align: right;\">\n",
       "      <th></th>\n",
       "      <th>ball</th>\n",
       "      <th>pen</th>\n",
       "      <th>pencil</th>\n",
       "      <th>paper</th>\n",
       "    </tr>\n",
       "  </thead>\n",
       "  <tbody>\n",
       "    <tr>\n",
       "      <th>0</th>\n",
       "      <td>0</td>\n",
       "      <td>1</td>\n",
       "      <td>2</td>\n",
       "      <td>3</td>\n",
       "    </tr>\n",
       "    <tr>\n",
       "      <th>1</th>\n",
       "      <td>4</td>\n",
       "      <td>5</td>\n",
       "      <td>6</td>\n",
       "      <td>7</td>\n",
       "    </tr>\n",
       "    <tr>\n",
       "      <th>2</th>\n",
       "      <td>8</td>\n",
       "      <td>9</td>\n",
       "      <td>10</td>\n",
       "      <td>11</td>\n",
       "    </tr>\n",
       "    <tr>\n",
       "      <th>3</th>\n",
       "      <td>12</td>\n",
       "      <td>13</td>\n",
       "      <td>14</td>\n",
       "      <td>15</td>\n",
       "    </tr>\n",
       "  </tbody>\n",
       "</table>\n",
       "</div>"
      ],
      "text/plain": [
       "   ball  pen  pencil  paper\n",
       "0     0    1       2      3\n",
       "1     4    5       6      7\n",
       "2     8    9      10     11\n",
       "3    12   13      14     15"
      ]
     },
     "execution_count": 126,
     "metadata": {},
     "output_type": "execute_result"
    }
   ],
   "source": [
    "# without index\n",
    "CSV_WRITE_WITHOUT_INDEX = './files/csv_write_without_index.csv'\n",
    "frame.to_csv(CSV_WRITE_WITHOUT_INDEX, index=False)\n",
    "\n",
    "pd.read_csv(CSV_WRITE_WITHOUT_INDEX)"
   ]
  },
  {
   "cell_type": "code",
   "execution_count": 129,
   "id": "46bf2a80",
   "metadata": {},
   "outputs": [
    {
     "data": {
      "text/html": [
       "<div>\n",
       "<style scoped>\n",
       "    .dataframe tbody tr th:only-of-type {\n",
       "        vertical-align: middle;\n",
       "    }\n",
       "\n",
       "    .dataframe tbody tr th {\n",
       "        vertical-align: top;\n",
       "    }\n",
       "\n",
       "    .dataframe thead th {\n",
       "        text-align: right;\n",
       "    }\n",
       "</style>\n",
       "<table border=\"1\" class=\"dataframe\">\n",
       "  <thead>\n",
       "    <tr style=\"text-align: right;\">\n",
       "      <th></th>\n",
       "      <th>ball</th>\n",
       "      <th>mug</th>\n",
       "      <th>paper</th>\n",
       "      <th>pen</th>\n",
       "      <th>pencil</th>\n",
       "    </tr>\n",
       "  </thead>\n",
       "  <tbody>\n",
       "    <tr>\n",
       "      <th>0</th>\n",
       "      <td>6.0</td>\n",
       "      <td>Not_Number</td>\n",
       "      <td>Not_Number</td>\n",
       "      <td>6.0</td>\n",
       "      <td>Not_Number</td>\n",
       "    </tr>\n",
       "    <tr>\n",
       "      <th>1</th>\n",
       "      <td>Not_Number</td>\n",
       "      <td>Not_Number</td>\n",
       "      <td>Not_Number</td>\n",
       "      <td>Not_Number</td>\n",
       "      <td>Not_Number</td>\n",
       "    </tr>\n",
       "    <tr>\n",
       "      <th>2</th>\n",
       "      <td>Not_Number</td>\n",
       "      <td>Not_Number</td>\n",
       "      <td>Not_Number</td>\n",
       "      <td>Not_Number</td>\n",
       "      <td>Not_Number</td>\n",
       "    </tr>\n",
       "    <tr>\n",
       "      <th>3</th>\n",
       "      <td>20.0</td>\n",
       "      <td>Not_Number</td>\n",
       "      <td>Not_Number</td>\n",
       "      <td>20.0</td>\n",
       "      <td>Not_Number</td>\n",
       "    </tr>\n",
       "    <tr>\n",
       "      <th>4</th>\n",
       "      <td>19.0</td>\n",
       "      <td>Not_Number</td>\n",
       "      <td>Not_Number</td>\n",
       "      <td>19.0</td>\n",
       "      <td>Not_Number</td>\n",
       "    </tr>\n",
       "  </tbody>\n",
       "</table>\n",
       "</div>"
      ],
      "text/plain": [
       "         ball         mug       paper         pen      pencil\n",
       "0         6.0  Not_Number  Not_Number         6.0  Not_Number\n",
       "1  Not_Number  Not_Number  Not_Number  Not_Number  Not_Number\n",
       "2  Not_Number  Not_Number  Not_Number  Not_Number  Not_Number\n",
       "3        20.0  Not_Number  Not_Number        20.0  Not_Number\n",
       "4        19.0  Not_Number  Not_Number        19.0  Not_Number"
      ]
     },
     "execution_count": 129,
     "metadata": {},
     "output_type": "execute_result"
    }
   ],
   "source": [
    "CSV_WRITE_NaN = './files/csv_write_NaN.csv'\n",
    "frame2 = pd.DataFrame([[6,np.nan,np.nan,6,np.nan],                \n",
    "           [np.nan,np.nan,np.nan,np.nan,np.nan],                \n",
    "           [np.nan,np.nan,np.nan,np.nan,np.nan],                \n",
    "           [20,np.nan,np.nan,20.0,np.nan],                \n",
    "           [19,np.nan,np.nan,19.0,np.nan]                \n",
    "           ],                \n",
    "                  index=['blue','green','red','white','yellow'],                \n",
    "                     columns=['ball','mug','paper','pen','pencil']) \n",
    "\n",
    "frame2.to_csv(CSV_WRITE_NaN, na_rep ='Not_Number', index = False)\n",
    "\n",
    "pd.read_csv(CSV_WRITE_NaN)"
   ]
  },
  {
   "cell_type": "markdown",
   "id": "a5722868",
   "metadata": {},
   "source": [
    "#### read write excel file\n",
    "    - use \"pip install openpyxl\" to install module for excel\n",
    "    - then import module using 'import openpyxl'\n",
    "    - use 'read_excel' and 'to_excel'\n",
    "    - pd.read_excel(EXCEL_FILE_TO_READ,'Sheet2')            # to read sheet 2\n",
    "    - To read all sheets as once use : 'sheet_name=None'\n",
    "      - ex : pd.read_excel(EXCEL_FILE_TO_READ,sheet_name=None)\n",
    "    - excel_file = pd.ExcelFile(EXCEL_FILE_TO_READ)\n",
    "    - available_sheets = excel_file.sheet_names             # read name of sheet avaialable\n",
    "    - Write to  excel using 'to_excel'"
   ]
  },
  {
   "cell_type": "code",
   "execution_count": null,
   "id": "77672182",
   "metadata": {},
   "outputs": [],
   "source": [
    "pip install openpyxl"
   ]
  },
  {
   "cell_type": "code",
   "execution_count": 135,
   "id": "ffc5397f",
   "metadata": {},
   "outputs": [
    {
     "data": {
      "text/html": [
       "<div>\n",
       "<style scoped>\n",
       "    .dataframe tbody tr th:only-of-type {\n",
       "        vertical-align: middle;\n",
       "    }\n",
       "\n",
       "    .dataframe tbody tr th {\n",
       "        vertical-align: top;\n",
       "    }\n",
       "\n",
       "    .dataframe thead th {\n",
       "        text-align: right;\n",
       "    }\n",
       "</style>\n",
       "<table border=\"1\" class=\"dataframe\">\n",
       "  <thead>\n",
       "    <tr style=\"text-align: right;\">\n",
       "      <th></th>\n",
       "      <th>Unnamed: 0</th>\n",
       "      <th>red</th>\n",
       "      <th>white</th>\n",
       "      <th>green</th>\n",
       "      <th>black</th>\n",
       "    </tr>\n",
       "  </thead>\n",
       "  <tbody>\n",
       "    <tr>\n",
       "      <th>0</th>\n",
       "      <td>a</td>\n",
       "      <td>56</td>\n",
       "      <td>43</td>\n",
       "      <td>56</td>\n",
       "      <td>34</td>\n",
       "    </tr>\n",
       "    <tr>\n",
       "      <th>1</th>\n",
       "      <td>b</td>\n",
       "      <td>74</td>\n",
       "      <td>75</td>\n",
       "      <td>35</td>\n",
       "      <td>87</td>\n",
       "    </tr>\n",
       "    <tr>\n",
       "      <th>2</th>\n",
       "      <td>c</td>\n",
       "      <td>65</td>\n",
       "      <td>26</td>\n",
       "      <td>68</td>\n",
       "      <td>86</td>\n",
       "    </tr>\n",
       "    <tr>\n",
       "      <th>3</th>\n",
       "      <td>NaN</td>\n",
       "      <td>2</td>\n",
       "      <td>72</td>\n",
       "      <td>76</td>\n",
       "      <td>43</td>\n",
       "    </tr>\n",
       "  </tbody>\n",
       "</table>\n",
       "</div>"
      ],
      "text/plain": [
       "  Unnamed: 0  red  white  green  black\n",
       "0          a   56     43     56     34\n",
       "1          b   74     75     35     87\n",
       "2          c   65     26     68     86\n",
       "3        NaN    2     72     76     43"
      ]
     },
     "execution_count": 135,
     "metadata": {},
     "output_type": "execute_result"
    }
   ],
   "source": [
    "import openpyxl\n",
    "EXCEL_FILE_TO_READ = './files/excel_to_read.xlsx'\n",
    "excel_frame = pd.read_excel(EXCEL_FILE_TO_READ)\n",
    "pd.read_excel(EXCEL_FILE_TO_READ)"
   ]
  },
  {
   "cell_type": "code",
   "execution_count": 137,
   "id": "04f31562",
   "metadata": {},
   "outputs": [
    {
     "data": {
      "text/html": [
       "<div>\n",
       "<style scoped>\n",
       "    .dataframe tbody tr th:only-of-type {\n",
       "        vertical-align: middle;\n",
       "    }\n",
       "\n",
       "    .dataframe tbody tr th {\n",
       "        vertical-align: top;\n",
       "    }\n",
       "\n",
       "    .dataframe thead th {\n",
       "        text-align: right;\n",
       "    }\n",
       "</style>\n",
       "<table border=\"1\" class=\"dataframe\">\n",
       "  <thead>\n",
       "    <tr style=\"text-align: right;\">\n",
       "      <th></th>\n",
       "      <th>Unnamed: 0</th>\n",
       "      <th>Yellow</th>\n",
       "      <th>Blue</th>\n",
       "      <th>Orange</th>\n",
       "    </tr>\n",
       "  </thead>\n",
       "  <tbody>\n",
       "    <tr>\n",
       "      <th>0</th>\n",
       "      <td>A</td>\n",
       "      <td>32</td>\n",
       "      <td>54</td>\n",
       "      <td>24</td>\n",
       "    </tr>\n",
       "    <tr>\n",
       "      <th>1</th>\n",
       "      <td>B</td>\n",
       "      <td>34</td>\n",
       "      <td>23</td>\n",
       "      <td>65</td>\n",
       "    </tr>\n",
       "    <tr>\n",
       "      <th>2</th>\n",
       "      <td>C</td>\n",
       "      <td>54</td>\n",
       "      <td>25</td>\n",
       "      <td>12</td>\n",
       "    </tr>\n",
       "  </tbody>\n",
       "</table>\n",
       "</div>"
      ],
      "text/plain": [
       "  Unnamed: 0  Yellow  Blue  Orange\n",
       "0          A      32    54      24\n",
       "1          B      34    23      65\n",
       "2          C      54    25      12"
      ]
     },
     "execution_count": 137,
     "metadata": {},
     "output_type": "execute_result"
    }
   ],
   "source": [
    "pd.read_excel(EXCEL_FILE_TO_READ,'Sheet2')"
   ]
  },
  {
   "cell_type": "code",
   "execution_count": null,
   "id": "dd89e102",
   "metadata": {},
   "outputs": [
    {
     "name": "stdout",
     "output_type": "stream",
     "text": [
      "available_sheets =  ['Sheet1', 'Sheet2']\n"
     ]
    }
   ],
   "source": [
    "excel_file = pd.ExcelFile(EXCEL_FILE_TO_READ)\n",
    "available_sheets = excel_file.sheet_names\n",
    "print(\"available_sheets = \",available_sheets)"
   ]
  },
  {
   "cell_type": "code",
   "execution_count": 140,
   "id": "1f71c9ef",
   "metadata": {},
   "outputs": [
    {
     "data": {
      "text/plain": [
       "{'Sheet1':   Unnamed: 0  red  white  green  black\n",
       " 0          a   56     43     56     34\n",
       " 1          b   74     75     35     87\n",
       " 2          c   65     26     68     86\n",
       " 3        NaN    2     72     76     43,\n",
       " 'Sheet2':   Unnamed: 0  Yellow  Blue  Orange\n",
       " 0          A      32    54      24\n",
       " 1          B      34    23      65\n",
       " 2          C      54    25      12}"
      ]
     },
     "execution_count": 140,
     "metadata": {},
     "output_type": "execute_result"
    }
   ],
   "source": [
    "pd.read_excel(EXCEL_FILE_TO_READ,sheet_name=None)"
   ]
  },
  {
   "cell_type": "code",
   "execution_count": 147,
   "id": "d5953abe",
   "metadata": {},
   "outputs": [
    {
     "data": {
      "text/plain": [
       "{'test_1':   Unnamed: 0   Jan2015   Fab2015   Mar2015   Apr2005\n",
       " 0       exp1  0.741094  0.265853  0.918867  0.173804\n",
       " 1       exp2  0.469058  0.505743  0.375060  0.464324\n",
       " 2       exp3  0.016881  0.542314  0.863493  0.804713\n",
       " 3       exp4  0.381928  0.166826  0.426784  0.505983,\n",
       " 'test_2':   Unnamed: 0   Jan2020   Fab2020   Mar2020   Apr2020\n",
       " 0       exp5  0.031810  0.612003  0.333285  0.493072\n",
       " 1       exp6  0.484933  0.444932  0.145269  0.745214\n",
       " 2       exp7  0.246422  0.772847  0.652311  0.024368\n",
       " 3       exp8  0.836374  0.320972  0.228540  0.220236}"
      ]
     },
     "execution_count": 147,
     "metadata": {},
     "output_type": "execute_result"
    }
   ],
   "source": [
    "CREATE_EXCEL_FILE = './files/excel_write.xlsx'\n",
    "\n",
    "frame1 = pd.DataFrame(np.random.random((4,4)),              \n",
    "                      index = ['exp1','exp2','exp3','exp4'],              \n",
    "                      columns = ['Jan2015','Fab2015','Mar2015','Apr2005'])  \n",
    "frame2 = pd.DataFrame(np.random.random((4,4)),              \n",
    "                      index = ['exp5','exp6','exp7','exp8'],              \n",
    "                      columns = ['Jan2020','Fab2020','Mar2020','Apr2020'])  \n",
    "\n",
    "with pd.ExcelWriter(CREATE_EXCEL_FILE) as writer:\n",
    "    frame1.to_excel(writer,sheet_name='test_1')\n",
    "    frame2.to_excel(writer,sheet_name='test_2')\n",
    "\n",
    "pd.read_excel(CREATE_EXCEL_FILE,sheet_name=None)"
   ]
  }
 ],
 "metadata": {
  "kernelspec": {
   "display_name": "Python 3",
   "language": "python",
   "name": "python3"
  },
  "language_info": {
   "codemirror_mode": {
    "name": "ipython",
    "version": 3
   },
   "file_extension": ".py",
   "mimetype": "text/x-python",
   "name": "python",
   "nbconvert_exporter": "python",
   "pygments_lexer": "ipython3",
   "version": "3.13.5"
  }
 },
 "nbformat": 4,
 "nbformat_minor": 5
}
