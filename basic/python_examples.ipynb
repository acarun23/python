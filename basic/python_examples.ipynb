{
 "cells": [
  {
   "cell_type": "markdown",
   "id": "384a501a",
   "metadata": {},
   "source": [
    "## Variable declaration and arithmatic operation\n",
    "[variable_operator.py](variable_operator.py)"
   ]
  },
  {
   "cell_type": "code",
   "execution_count": 6,
   "id": "264e5ea9",
   "metadata": {},
   "outputs": [
    {
     "name": "stdout",
     "output_type": "stream",
     "text": [
      "1. test code\n",
      "12.34\n",
      "2.a. Rohit is 50 years old\n",
      "2.b. Arun is 20 years old\n",
      "3. test codeabc1234\n",
      "4. value = 12\n",
      "5. 6.0\n"
     ]
    }
   ],
   "source": [
    "# Variable declation\n",
    "variable_a = \"test code\"\n",
    "variable_b = 10\n",
    "variable_c = 2.34\n",
    "text = \"abc1234\"\n",
    "name, age = \"Arun\", 20\n",
    "\n",
    "# Variable access and print\n",
    "print(\"1. \" + variable_a)\n",
    "print(variable_b + variable_c)\n",
    "print(\"2.a. %s is %d years old\" % (\"Rohit\", 50))\n",
    "print(f\"2.b. {name} is {age} years old\")\n",
    "\n",
    "# Arithmatic Operation\n",
    "text_addition = variable_a + text\n",
    "print(\"3. \" + text_addition)\n",
    "\n",
    "# access variable starting from index 3 and terminated to index 4. index 5 will not be taken\n",
    "value = text[3:5]\n",
    "print(\"4. value = \" + value )\n",
    "print(\"5. \" + str(int(value,base = 0)/2))\n"
   ]
  },
  {
   "cell_type": "markdown",
   "id": "c562f3ac",
   "metadata": {},
   "source": [
    "## List\n",
    "- set of ordered items\n",
    "- have an index\n",
    "- know the order\n",
    "\n",
    "[list.py](list.py)"
   ]
  },
  {
   "cell_type": "code",
   "execution_count": 7,
   "id": "188f93bc",
   "metadata": {},
   "outputs": [
    {
     "name": "stdout",
     "output_type": "stream",
     "text": [
      "1. ['apple', 'orange', 'banana']\n",
      "2. orange\n",
      "3. ['orange', 'banana']\n",
      "4. total element 3, names ['cherry', 'banana', 'mango']\n"
     ]
    }
   ],
   "source": [
    "fruits = [\"apple\", \"orange\", \"banana\"]\n",
    "print(\"1.\", end=\" \")\n",
    "print(fruits)\n",
    "\n",
    "# access element\n",
    "print(\"2.\", end=\" \")\n",
    "print(fruits[1])\n",
    "print(\"3.\", end=\" \")\n",
    "print(fruits[1:3])      # slicing doesn't conssider last element\n",
    "\n",
    "# addition/ deletion\n",
    "fruits.append(\"mango\")\n",
    "del fruits[1]       # delete element at 1st index i.e. organge\n",
    "fruits[0] = \"cherry\" # modify element at 0th index i.e. apple\n",
    "total = len(fruits) # get length of list\n",
    "print(f\"4. total element {total}, names {fruits}\")"
   ]
  },
  {
   "cell_type": "markdown",
   "id": "5c33346a",
   "metadata": {},
   "source": [
    "## Dictionary\n",
    "\n",
    "[dictionary.py](dictionary.py)"
   ]
  },
  {
   "cell_type": "code",
   "execution_count": 8,
   "id": "dbba30ad",
   "metadata": {},
   "outputs": [
    {
     "name": "stdout",
     "output_type": "stream",
     "text": [
      "1. {'Red': 10, 'Orange': 15, 'Blue': 18}\n",
      "2. {'Red': 10, 'Orange': 12}\n"
     ]
    }
   ],
   "source": [
    "colour_code = {'Red': 10, 'Orange': 15, 'Blue': 18}\n",
    "print(\"1.\",end =\" \")\n",
    "print(colour_code)\n",
    "\n",
    "# access dictionary\n",
    "colour_code['Orange'] = 12  # update code fro orange\n",
    "del colour_code['Blue']\n",
    "print(\"2.\",end =\" \")\n",
    "print(colour_code)"
   ]
  },
  {
   "cell_type": "markdown",
   "id": "b60c644c",
   "metadata": {},
   "source": [
    "## if-condition\n",
    "\n",
    "[if-condition.py](if_condition.py)"
   ]
  },
  {
   "cell_type": "code",
   "execution_count": 9,
   "id": "9beea660",
   "metadata": {},
   "outputs": [
    {
     "name": "stdout",
     "output_type": "stream",
     "text": [
      "You are child\n"
     ]
    }
   ],
   "source": [
    "age = 12\n",
    "if age > 12 and age <= 18:\n",
    "    print(\"Your are teenager\")\n",
    "elif age <= 12:\n",
    "    print(\"You are child\")\n",
    "else:\n",
    "    print(\"You are adult\")"
   ]
  },
  {
   "cell_type": "markdown",
   "id": "815ea719",
   "metadata": {},
   "source": [
    "## tuples\n",
    "- Tuples are imutable. they can't be change. \n",
    "- they are like constant\n",
    "  \n",
    "[tuples.py](tuples.py)"
   ]
  },
  {
   "cell_type": "code",
   "execution_count": 10,
   "id": "e03af154",
   "metadata": {},
   "outputs": [
    {
     "name": "stdout",
     "output_type": "stream",
     "text": [
      "1. ('Orange', 'apple', 'banana')\n",
      "2. ('Orange', 'apple')\n"
     ]
    },
    {
     "ename": "TypeError",
     "evalue": "'tuple' object does not support item assignment",
     "output_type": "error",
     "traceback": [
      "\u001b[31m---------------------------------------------------------------------------\u001b[39m",
      "\u001b[31mTypeError\u001b[39m                                 Traceback (most recent call last)",
      "\u001b[36mCell\u001b[39m\u001b[36m \u001b[39m\u001b[32mIn[10]\u001b[39m\u001b[32m, line 12\u001b[39m\n\u001b[32m      9\u001b[39m \u001b[38;5;28mprint\u001b[39m(fruits[\u001b[32m0\u001b[39m:\u001b[32m2\u001b[39m])\n\u001b[32m     11\u001b[39m \u001b[38;5;66;03m# try to change\u001b[39;00m\n\u001b[32m---> \u001b[39m\u001b[32m12\u001b[39m \u001b[43mfruits\u001b[49m\u001b[43m[\u001b[49m\u001b[32;43m0\u001b[39;49m\u001b[43m]\u001b[49m = \u001b[33m'\u001b[39m\u001b[33mmango\u001b[39m\u001b[33m'\u001b[39m\n",
      "\u001b[31mTypeError\u001b[39m: 'tuple' object does not support item assignment"
     ]
    }
   ],
   "source": [
    "# Tuples are imutable. they can't be change. \n",
    "# they are like constant\n",
    "\n",
    "fruits = ('Orange', 'apple', 'banana')\n",
    "print(\"1.\", end =\" \")\n",
    "print(fruits)\n",
    "\n",
    "print(\"2.\", end =\" \")\n",
    "print(fruits[0:2])\n",
    "\n",
    "# try to change\n",
    "fruits[0] = 'mango'"
   ]
  },
  {
   "cell_type": "markdown",
   "id": "bfc08aa0",
   "metadata": {},
   "source": [
    "## loop\n",
    "- range syntax range(init_value, max_value, increment)\n",
    "[loop.py](loop.py)"
   ]
  },
  {
   "cell_type": "code",
   "execution_count": null,
   "id": "54134598",
   "metadata": {},
   "outputs": [],
   "source": [
    "\n",
    "# for loop\n",
    "fruits = ['mango', 'orange', 'apple']\n",
    "\n",
    "for item in fruits:\n",
    "    print(item, end =' ')\n",
    "\n",
    "# for loop with range(initial_value, limit, increment_value)\n",
    "print(\"\\n\\nfor loop with range output:\")\n",
    "for i in range(5, 15, 2):\n",
    "    if i % 3 == 0:\n",
    "        print(i, \"\\nvalue divisible by 3\")\n",
    "    else:\n",
    "        print(i,end=' ')\n",
    "\n",
    "# while loop\n",
    "i = 0\n",
    "print(\"\\n\\nwhile loop output:\")\n",
    "while i < 10:\n",
    "    i = i+1\n",
    "    if i == 2:\n",
    "        continue\n",
    "    elif i == 5:\n",
    "        pass\n",
    "    elif i == 7:\n",
    "        break\n",
    "    print(i,end =' ')"
   ]
  },
  {
   "cell_type": "markdown",
   "id": "76e0e346",
   "metadata": {},
   "source": [
    "## function declaration\n",
    "\n",
    "[function.py](function.py)"
   ]
  },
  {
   "cell_type": "code",
   "execution_count": 11,
   "id": "2743f50f",
   "metadata": {},
   "outputs": [
    {
     "name": "stdout",
     "output_type": "stream",
     "text": [
      "name =  Arun\n",
      "Total character =  4\n",
      "addition =  6\n"
     ]
    }
   ],
   "source": [
    "# write function which return length of string and print the string\n",
    "\n",
    "def name_length(name):\n",
    "    print(\"name = \", name)\n",
    "    return len(name)\n",
    "\n",
    "size = name_length(\"Arun\")\n",
    "print(\"Total character = \", size)\n",
    "\n",
    "# Addition of two number program\n",
    "def add(num1, num2):\n",
    "    print(\"addition = \", num1+num2)\n",
    "    \n",
    "add(2, 4)"
   ]
  }
 ],
 "metadata": {
  "kernelspec": {
   "display_name": "Python 3",
   "language": "python",
   "name": "python3"
  },
  "language_info": {
   "codemirror_mode": {
    "name": "ipython",
    "version": 3
   },
   "file_extension": ".py",
   "mimetype": "text/x-python",
   "name": "python",
   "nbconvert_exporter": "python",
   "pygments_lexer": "ipython3",
   "version": "3.13.5"
  }
 },
 "nbformat": 4,
 "nbformat_minor": 5
}
