{
 "cells": [
  {
   "cell_type": "markdown",
   "id": "2c10d5ae",
   "metadata": {},
   "source": [
    "## basic file read"
   ]
  },
  {
   "cell_type": "code",
   "execution_count": 1,
   "id": "9c1eb78f",
   "metadata": {},
   "outputs": [
    {
     "name": "stdout",
     "output_type": "stream",
     "text": [
      "This is line 1\n",
      "\n",
      "This is line 1\n",
      "This is line 2\n",
      "This is line 3\n",
      "This is line 4\n",
      "This is the last line. Total line written are 5.\n"
     ]
    }
   ],
   "source": [
    "#import os\n",
    "\n",
    "#print(os.curdir)\n",
    "f = open(\"data.txt\", \"r\")\n",
    "print(f.readline())\n",
    "f.close()\n",
    "\n",
    "file = \"data.txt\"\n",
    "with open(file) as data:\n",
    "    print(data.read())"
   ]
  },
  {
   "cell_type": "markdown",
   "id": "3bd41682",
   "metadata": {},
   "source": [
    "## Read perticular line index"
   ]
  },
  {
   "cell_type": "code",
   "execution_count": 1,
   "id": "34f6b526",
   "metadata": {},
   "outputs": [
    {
     "name": "stdout",
     "output_type": "stream",
     "text": [
      "f:\\github\\python\\file\n",
      "This is line 3\n",
      "\n",
      "This is line 2\n",
      "\n",
      "This is line 4\n",
      "\n"
     ]
    }
   ],
   "source": [
    "import os\n",
    "\n",
    "print(os.getcwd())\n",
    "\n",
    "f = open(\"data.txt\", \"r\")\n",
    "content = f.readlines()\n",
    "print(content[2])\n",
    "## now index is at the end of line either close the file or use f.seek(0)\n",
    "f.close()\n",
    "\n",
    "\n",
    "# another way\n",
    "specified_lines = [1, 3]\n",
    "f = open(\"data.txt\", \"r\")\n",
    "for line, l_num in enumerate(f):\n",
    "    if line in specified_lines:\n",
    "        print(l_num)\n",
    "\n",
    "f.close()"
   ]
  },
  {
   "cell_type": "markdown",
   "id": "d5f2eb28",
   "metadata": {},
   "source": [
    "## write line"
   ]
  },
  {
   "cell_type": "code",
   "execution_count": null,
   "id": "5b60afa4",
   "metadata": {},
   "outputs": [],
   "source": [
    "## write line"
   ]
  }
 ],
 "metadata": {
  "kernelspec": {
   "display_name": "Python 3",
   "language": "python",
   "name": "python3"
  },
  "language_info": {
   "codemirror_mode": {
    "name": "ipython",
    "version": 3
   },
   "file_extension": ".py",
   "mimetype": "text/x-python",
   "name": "python",
   "nbconvert_exporter": "python",
   "pygments_lexer": "ipython3",
   "version": "3.13.5"
  }
 },
 "nbformat": 4,
 "nbformat_minor": 5
}
