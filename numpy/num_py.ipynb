{
 "cells": [
  {
   "cell_type": "markdown",
   "id": "53d322be",
   "metadata": {},
   "source": [
    "### installing numpy using \"pip install numpy\"\n",
    "        import numpy using \"import numpy as np\""
   ]
  },
  {
   "cell_type": "markdown",
   "id": "1e2ccaa7",
   "metadata": {},
   "source": [
    "#### Numpy ndarray\n",
    "    - homogeneous because virtually all the items in it are of the same type and the same size\n",
    "    - Size is fixed. reamins same as we create at the begining unlike python list which grow or shrink\n",
    "    - Main functions\n",
    "      - array  a = np.array([1,2,3])\n",
    "      - array can be assigned mixture of tuples and list\n",
    "        - e = np.array([(1, 2, 3), [4, 5, 6], (7, 8, 9)]) \n",
    "      - a.shape     # defines size like 2*2\n",
    "      - a.dtype         # define type int float char\n",
    "      - a.ndim       # attribute for getting the axes\n",
    "      - a.size        # determine the array length\n",
    "      - a.itemsize      # defines the size in bytes of each item"
   ]
  },
  {
   "cell_type": "code",
   "execution_count": 139,
   "id": "61866fd7",
   "metadata": {},
   "outputs": [
    {
     "name": "stdout",
     "output_type": "stream",
     "text": [
      "type = int64, itemsize = 8 \n",
      "shape = (2, 3), axis = 2, length = 6\n"
     ]
    }
   ],
   "source": [
    "import numpy as np\n",
    "\n",
    "array = np.array([[1,2,3],[4,5,6]])\n",
    "print(f\"type = {array.dtype}, itemsize = {array.itemsize} \\n\\\n",
    "shape = {array.shape}, axis = {array.ndim}, length = {array.size}\")\n"
   ]
  },
  {
   "cell_type": "markdown",
   "id": "cc9f5e03",
   "metadata": {},
   "source": [
    "#### ndarray options and creation\n",
    "    - add dtype using dtype in array function\n",
    "      - f = np.array([[1, 2, 3],[4, 5, 6]], dtype=complex)\n",
    "    - np.zeros((3, 3))   # create array with all 0  3* 3 matrix\n",
    "    - np.ones((3, 3))\n",
    "    - np.arange(4, 10)   # create array [4,5,6,7,8,9]\n",
    "      - third arrgument will add for gap\n",
    "      - np.arange(0, 12, 3)    # create array array([0, 3, 6, 9])\n",
    "      - use reshape with arrange to define shape\n",
    "      - np.arange(0, 12).reshape(3, 4)\n",
    "    - np.linspace(0,10,5)  # first two arguments the initial and end values of the sequence, but the third argument, i defines the number of elements into which you want the interval to be split. \n",
    "    - np.random.random((3,3))    # generate random number"
   ]
  },
  {
   "cell_type": "code",
   "execution_count": 140,
   "id": "115de46b",
   "metadata": {},
   "outputs": [
    {
     "name": "stdout",
     "output_type": "stream",
     "text": [
      "Complex array  = \n",
      "[[1.+0.j 2.+0.j 3.+0.j]\n",
      " [4.+0.j 5.+0.j 6.+0.j]]\n",
      "Ones array  = \n",
      "[[1 1]\n",
      " [1 1]]\n",
      "array_with_arrange  = \n",
      "[0 3 6 9]\n",
      "array_with_reshape  = \n",
      "[[ 0  1  2  3  4  5]\n",
      " [ 6  7  8  9 10 11]]\n",
      "array_with_linespace  = \n",
      "[ 0.   2.5  5.   7.5 10. ]\n"
     ]
    }
   ],
   "source": [
    "complex_array = np.array([[1, 2, 3],[4, 5, 6]], dtype=complex)\n",
    "print(f\"Complex array  = \\n{complex_array}\")\n",
    "\n",
    "ones_array = np.ones((2, 2), dtype = 'int')\n",
    "print(f\"Ones array  = \\n{ones_array}\")\n",
    "\n",
    "array_with_arrange = np.arange(0, 12, 3)\n",
    "print(f\"array_with_arrange  = \\n{array_with_arrange}\")\n",
    "\n",
    "print(f\"array_with_reshape  = \\n{np.arange(0,12).reshape(2,6)}\")\n",
    "\n",
    "print(f\"array_with_linespace  = \\n{np.linspace(0,10,5)}\")"
   ]
  },
  {
   "cell_type": "markdown",
   "id": "0ee693ad",
   "metadata": {},
   "source": [
    "#### Basic Operations\n",
    "    - Add, mul, sub, div did on all element if 2 matrix then added like \"a[0][0] + b[0][0]\", \"a[0][1] + b[0][1]\"\n",
    "      - a = np.arrange(0,4)\n",
    "      - a =+ 4 will add 4 in all elements\n",
    "    - other functions (universal function, generally called ufunc)\n",
    "      - np.sin(b)\n",
    "      - np.sqrt(b)\n",
    "      - np.log(a) \n",
    "      - np.dot(A,B)  or alternatively A.dot(B)   # matrix product\n",
    "      - np.dot(B,A)   # this will do matrix of B and A different from np.dot(A,B)\n",
    "    - Aggregate functions perform an operation on a set of values\n",
    "      - a.sum(), a.min(), a.max(), a.mean(), a.std()"
   ]
  },
  {
   "cell_type": "code",
   "execution_count": 141,
   "id": "ca43ea96",
   "metadata": {},
   "outputs": [
    {
     "name": "stdout",
     "output_type": "stream",
     "text": [
      "a = [[0 1]\n",
      " [2 3]],\n",
      "b = [[2 3]\n",
      " [4 5]],\n",
      "sum = \n",
      "[[2 4]\n",
      " [6 8]]\n",
      "sin_multiplication = \n",
      "[[ 0.          0.14112001]\n",
      " [-1.51360499 -2.87677282]]\n"
     ]
    }
   ],
   "source": [
    "a = np.arange(0,4).reshape(2,2)\n",
    "b = np.arange(2,6).reshape(2,2)\n",
    "print(f\"a = {a},\\nb = {b},\\nsum = \\n{a+b}\")\n",
    "\n",
    "print(f\"sin_multiplication = \\n{a*np.sin(b)}\")"
   ]
  },
  {
   "cell_type": "markdown",
   "id": "3318dc78",
   "metadata": {},
   "source": [
    "#### access elemt in array, indexing,slicing,iterating\n",
    "    - access using [row index, column index]\n",
    "    - short using array[start_index:End_index:gap]\n",
    "      - example a[1:5:2]\n",
    "      - other valids a[::2], a[:5:2], a[:5:]  \n",
    "      - For 2 dimenstional use A[0:2, 0:2] \n",
    "    - Apply loop using \"for a in array\" : a is variable name.\n",
    "      - For 2 dimensional it scans raw by raw\n",
    "      - if want to iterate all element use \"for item in A.flat\"\n",
    "    - np.apply_along_axis(np.mean, axis=0, arr=A)   # axis 0 is for row and axis 1 is for column"
   ]
  },
  {
   "cell_type": "code",
   "execution_count": 142,
   "id": "30e9f3b2",
   "metadata": {},
   "outputs": [
    {
     "name": "stdout",
     "output_type": "stream",
     "text": [
      "[[ 0  1  2  3]\n",
      " [ 4  5  6  7]\n",
      " [ 8  9 10 11]]\n",
      "a[0][2] = 2\n",
      "slice = \n",
      "[[ 4  6]\n",
      " [ 8 10]]\n",
      "iterating array = \n",
      "[0 1 2 3], [4 5 6 7], [ 8  9 10 11], \n",
      "apply along row = [4. 5. 6. 7.]\n",
      "apply along column = [1.5 5.5 9.5]\n"
     ]
    }
   ],
   "source": [
    "a = np.arange(0,12).reshape(3,4)\n",
    "print(a)\n",
    "print(f\"a[0][2] = {a[0][2]}\")\n",
    "\n",
    "print(f\"slice = \\n{a[1:3,0:4:2]}\")\n",
    "\n",
    "print(\"iterating array = \")\n",
    "for row in a:\n",
    "    print(row, end = ', ')\n",
    "\n",
    "print(f\"\\napply along row = {np.apply_along_axis(np.mean, axis=0, arr=a)}\")\n",
    "\n",
    "print(f\"apply along column = {np.apply_along_axis(np.mean, axis=1, arr=a)}\")"
   ]
  },
  {
   "cell_type": "markdown",
   "id": "a99e9d5b",
   "metadata": {},
   "source": [
    "#### condition and boolean\n",
    "    - check condition using <, >\n",
    "      - A < 0.5 returns array with true false\n",
    "      - sort array using A[A<0.5]\n",
    "    - Shape change. \n",
    "      -  A = a.reshape(3, 4)      #reshape() function returns a new array and can therefore create new objects\n",
    "      -  a.shape = (3,4)          # will not crete new object\n",
    "      -  a = a.ravel() or a.shape = (A.size)  # will convert to one dimentional array\n",
    "      -  A.transpose()          # to transpose an array"
   ]
  },
  {
   "cell_type": "code",
   "execution_count": 143,
   "id": "d77b8b0a",
   "metadata": {},
   "outputs": [
    {
     "name": "stdout",
     "output_type": "stream",
     "text": [
      "Condition check a<0.5 = \n",
      "[[ True False False False  True  True]\n",
      " [False False  True False  True  True]]\n",
      "filtered_array = [0.26915143 0.00277312 0.16263046 0.40914628 0.20823554 0.32564995]\n",
      "3*4 array = \n",
      " [[0.26915143 0.9872835  0.96090749 0.83658245]\n",
      " [0.00277312 0.16263046 0.53502055 0.5355382 ]\n",
      " [0.40914628 0.62002241 0.20823554 0.32564995]]\n",
      "1 dimentional array =  [0.26915143 0.9872835  0.96090749 0.83658245 0.00277312 0.16263046\n",
      " 0.53502055 0.5355382  0.40914628 0.62002241 0.20823554 0.32564995]\n"
     ]
    }
   ],
   "source": [
    "a = np.random.random((2,6))\n",
    "print(f\"Condition check a<0.5 = \\n{a<0.5}\")\n",
    "filtered_array = a[a<0.5]\n",
    "print(f\"filtered_array = {filtered_array}\")\n",
    "\n",
    "A = a.reshape(3,4)\n",
    "print(\"3*4 array = \\n\",A)\n",
    "\n",
    "a = a.ravel()\n",
    "print(\"1 dimentional array = \",a)"
   ]
  },
  {
   "cell_type": "markdown",
   "id": "199ae27f",
   "metadata": {},
   "source": [
    "#### Array Manupulation\n",
    "    - Join/split array \n",
    "      - use 'vstack'(vertical stack) or 'hstack' (horizonal) for 2 dimentional array\n",
    "        - need to pass only one argument so 2 brackets will be used np.hstack((a,b))\n",
    "      - use 'column_stack'(vertical stack) or 'row_stack' (horizonal) for 1 dimentional array\n",
    "        - example 'np.column_stack((a, b, c))'\n",
    "      - use 'hsplit()' or 'vsplit()' to split an array\n",
    "      - use noraml 'split' function\n",
    "        - np.split(A,[1,3],axis=1)    # axis =1 means indexes by column\n",
    "        - for row use axis = 0\n",
    "        - [1,3] denots first of which will include the first column, the second will include the second and the third column, and the third will include the last column,\n",
    "        - here it menas first array will be till index 1 so include only 1\n",
    "        - 3 denotes second will include index from 1 to upto 3 means indexes 1,2\n",
    "        - last includes the remaining"
   ]
  },
  {
   "cell_type": "code",
   "execution_count": 144,
   "id": "b73412e9",
   "metadata": {},
   "outputs": [
    {
     "name": "stdout",
     "output_type": "stream",
     "text": [
      "stack_by_row = \n",
      "[[0 1]\n",
      " [2 3]\n",
      " [4 5]\n",
      " [6 7]]\n",
      "stack_by_column = \n",
      "[[0 1 4 5]\n",
      " [2 3 6 7]]\n",
      "A = [[0 1]\n",
      " [2 3]]\n",
      "B = [[4 5]\n",
      " [6 7]]\n",
      "[array([[0, 1],\n",
      "       [2, 3]]), array([[4],\n",
      "       [6]]), array([[5],\n",
      "       [7]])]\n"
     ]
    }
   ],
   "source": [
    "a = np.arange(0,4).reshape(2,2)\n",
    "b = np.arange(4,8).reshape(2,2)\n",
    "stack_by_row = np.vstack((a,b))\n",
    "stack_by_column = np.hstack([a,b])\n",
    "\n",
    "print(f\"stack_by_row = \\n{stack_by_row}\")\n",
    "print(f\"stack_by_column = \\n{stack_by_column}\")\n",
    "\n",
    "[A,B] = np.hsplit(stack_by_column,2)\n",
    "print(f\"A = {A}\")\n",
    "print(f\"B = {B}\")\n",
    "\n",
    "print(np.split(stack_by_column,[2,3],axis=1))"
   ]
  },
  {
   "cell_type": "markdown",
   "id": "4200f6e5",
   "metadata": {},
   "source": [
    "#### general concept\n",
    "    - when you are manipulating an array, you can return a copy or a view of the array. None of the NumPy assignments produces copies of arrays, nor any element contained in them.\n",
    "    - a * b (one dimentional array) is equal to\n",
    "      - for (i = 0; i < rows; i++){                \n",
    "            c[i] = a[i]*b[i];                \n",
    "        }   \n",
    "    - For 2 dimentional\n",
    "      - for( i=0; i < rows; i++){                \n",
    "            for(j=0; j < columns; j++){                \n",
    "                c[i][j] = a[i][j]*b[i][j];                \n",
    "                }                \n",
    "            }  \n",
    "    - Broadcasting allows an operator or a function to act on two or more arrays even if these arrays do not have the same shape\n",
    "      - Example addition of 2 array (3,2,1) and (3,1,2)"
   ]
  },
  {
   "cell_type": "code",
   "execution_count": 145,
   "id": "54c1811b",
   "metadata": {},
   "outputs": [
    {
     "name": "stdout",
     "output_type": "stream",
     "text": [
      "m = [[[0 1]]\n",
      "\n",
      " [[2 3]]\n",
      "\n",
      " [[4 5]]]\n",
      "n = [[[0]\n",
      "  [1]]\n",
      "\n",
      " [[2]\n",
      "  [3]]\n",
      "\n",
      " [[4]\n",
      "  [5]]]\n",
      "SUM = [[[ 0  1]\n",
      "  [ 1  2]]\n",
      "\n",
      " [[ 4  5]\n",
      "  [ 5  6]]\n",
      "\n",
      " [[ 8  9]\n",
      "  [ 9 10]]]\n"
     ]
    }
   ],
   "source": [
    "m = np.arange(6).reshape(3, 1, 2)\n",
    "n = np.arange(6).reshape(3, 2, 1)\n",
    "\n",
    "print(f\"m = {m}\")\n",
    "print(f\"n = {n}\")\n",
    "print(f\"SUM = {m+n}\")"
   ]
  },
  {
   "cell_type": "markdown",
   "id": "fa6faee6",
   "metadata": {},
   "source": [
    "#### Structured array\n",
    "    - Data type             Specifies type using dtype\n",
    "        bytes                     b1              \n",
    "        int                       i1, i2, i4, i8              \n",
    "        unsigned ints             u1, u2, u4, u8              \n",
    "        floats                    f2, f4, f8              \n",
    "        complex                   c8, c16              \n",
    "        fixed length strings      a<n>   \n",
    "    - Example : structured = np.array([(1, 'First', 0.5, 1+2j),(2, 'Second', 1.3, 2-2j), (3, 'Third', 0.8, 1+3j)],dtype=('i2, a6, f4, c8'))\n",
    "    - data type explicitly by specifying int8, uint8, float16, complex64 is also possible\n",
    "    - structured[1]             # will call first row\n",
    "    - Specify the names using\n",
    "      - dtype=[('id','i2'),('position','a6'),('value','f4'),('complex','c8')]\n",
    "      - call 'structured.dtype.names' to get names\n",
    "      - 'structured['position']' will call detail of position in array"
   ]
  },
  {
   "cell_type": "code",
   "execution_count": 146,
   "id": "2be843ee",
   "metadata": {},
   "outputs": [
    {
     "name": "stdout",
     "output_type": "stream",
     "text": [
      "structured_array = [(1, b'First', 0.5, 1.+2.j) (2, b'Second', 1.3, 2.-2.j)\n",
      " (3, b'Third', 0.8, 1.+3.j)]\n"
     ]
    },
    {
     "data": {
      "text/plain": [
       "array([(1, b'First', 0.5, 1.+2.j), (2, b'Second', 1.3, 2.-2.j),\n",
       "       (3, b'Third', 0.8, 1.+3.j)],\n",
       "      dtype=[('f0', '<i2'), ('f1', 'S6'), ('f2', '<f4'), ('f3', '<c8')])"
      ]
     },
     "execution_count": 146,
     "metadata": {},
     "output_type": "execute_result"
    }
   ],
   "source": [
    "structured = np.array([(1, 'First', 0.5, 1+2j),(2, 'Second', 1.3, 2-2j), (3, 'Third', 0.8, 1+3j)],dtype=('i2, S6, f4, c8'))\n",
    "print(f\"structured_array = {structured}\")\n",
    "structured"
   ]
  },
  {
   "cell_type": "code",
   "execution_count": 147,
   "id": "46e94c22",
   "metadata": {},
   "outputs": [
    {
     "name": "stdout",
     "output_type": "stream",
     "text": [
      "one row = (1, b'First', 0.5, 1.+2.j)\n"
     ]
    },
    {
     "data": {
      "text/plain": [
       "array([(1, b'First', 0.5, 1.+2.j), (2, b'Second', 1.3, 2.-2.j),\n",
       "       (3, b'Third', 0.8, 1.+3.j)],\n",
       "      dtype=[('id', '<i2'), ('position', 'S6'), ('value', '<f4'), ('complex', '<c8')])"
      ]
     },
     "execution_count": 147,
     "metadata": {},
     "output_type": "execute_result"
    }
   ],
   "source": [
    "print(f\"one row = {structured[0]}\")\n",
    "#print(f\"second row = {structured['f1']}\")\n",
    "\n",
    "# sepcifying names\n",
    "structured = np.array([(1, 'First', 0.5, 1+2j),(2, 'Second', 1.3, 2-2j), (3, 'Third', 0.8, 1+3j)],dtype=[('id','i2'),('position','S6'),('value','f4'),('complex','c8')])\n",
    "structured"
   ]
  },
  {
   "cell_type": "code",
   "execution_count": 148,
   "id": "d5076b93",
   "metadata": {},
   "outputs": [
    {
     "name": "stdout",
     "output_type": "stream",
     "text": [
      "('id', 'position', 'value', 'complex')\n"
     ]
    },
    {
     "data": {
      "text/plain": [
       "array([b'First', b'Second', b'Third'], dtype='|S6')"
      ]
     },
     "execution_count": 148,
     "metadata": {},
     "output_type": "execute_result"
    }
   ],
   "source": [
    "print(structured.dtype.names)\n",
    "structured['position']"
   ]
  }
 ],
 "metadata": {
  "kernelspec": {
   "display_name": "Python 3",
   "language": "python",
   "name": "python3"
  },
  "language_info": {
   "codemirror_mode": {
    "name": "ipython",
    "version": 3
   },
   "file_extension": ".py",
   "mimetype": "text/x-python",
   "name": "python",
   "nbconvert_exporter": "python",
   "pygments_lexer": "ipython3",
   "version": "3.13.5"
  }
 },
 "nbformat": 4,
 "nbformat_minor": 5
}
